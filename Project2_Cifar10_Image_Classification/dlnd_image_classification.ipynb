{
 "cells": [
  {
   "cell_type": "markdown",
   "metadata": {
    "collapsed": true,
    "deletable": true,
    "editable": true
   },
   "source": [
    "# Image Classification\n",
    "\n",
    "#### Harish Vasudevasarma (created on March 8, 2017, rerun on March 10, 2017)\n",
    "\n",
    "In this project, you'll classify images from the [CIFAR-10 dataset](https://www.cs.toronto.edu/~kriz/cifar.html).  The dataset consists of airplanes, dogs, cats, and other objects. You'll preprocess the images, then train a convolutional neural network on all the samples. The images need to be normalized and the labels need to be one-hot encoded.  You'll get to apply what you learned and build a convolutional, max pooling, dropout, and fully connected layers.  At the end, you'll get to see your neural network's predictions on the sample images.\n",
    "## Get the Data\n",
    "Run the following cell to download the [CIFAR-10 dataset for python](https://www.cs.toronto.edu/~kriz/cifar-10-python.tar.gz)."
   ]
  },
  {
   "cell_type": "code",
   "execution_count": 1,
   "metadata": {
    "collapsed": false,
    "deletable": true,
    "editable": true
   },
   "outputs": [
    {
     "name": "stdout",
     "output_type": "stream",
     "text": [
      "All files found!\n"
     ]
    }
   ],
   "source": [
    "\"\"\"\n",
    "DON'T MODIFY ANYTHING IN THIS CELL THAT IS BELOW THIS LINE\n",
    "\"\"\"\n",
    "from urllib.request import urlretrieve\n",
    "from os.path import isfile, isdir\n",
    "from tqdm import tqdm\n",
    "import problem_unittests as tests\n",
    "import tarfile\n",
    "\n",
    "cifar10_dataset_folder_path = 'cifar-10-batches-py'\n",
    "\n",
    "class DLProgress(tqdm):\n",
    "    last_block = 0\n",
    "\n",
    "    def hook(self, block_num=1, block_size=1, total_size=None):\n",
    "        self.total = total_size\n",
    "        self.update((block_num - self.last_block) * block_size)\n",
    "        self.last_block = block_num\n",
    "\n",
    "if not isfile('cifar-10-python.tar.gz'):\n",
    "    with DLProgress(unit='B', unit_scale=True, miniters=1, desc='CIFAR-10 Dataset') as pbar:\n",
    "        urlretrieve(\n",
    "            'https://www.cs.toronto.edu/~kriz/cifar-10-python.tar.gz',\n",
    "            'cifar-10-python.tar.gz',\n",
    "            pbar.hook)\n",
    "\n",
    "if not isdir(cifar10_dataset_folder_path):\n",
    "    with tarfile.open('cifar-10-python.tar.gz') as tar:\n",
    "        tar.extractall()\n",
    "        tar.close()\n",
    "\n",
    "\n",
    "tests.test_folder_path(cifar10_dataset_folder_path)"
   ]
  },
  {
   "cell_type": "markdown",
   "metadata": {
    "deletable": true,
    "editable": true
   },
   "source": [
    "## Explore the Data\n",
    "The dataset is broken into batches to prevent your machine from running out of memory.  The CIFAR-10 dataset consists of 5 batches, named `data_batch_1`, `data_batch_2`, etc.. Each batch contains the labels and images that are one of the following:\n",
    "* airplane\n",
    "* automobile\n",
    "* bird\n",
    "* cat\n",
    "* deer\n",
    "* dog\n",
    "* frog\n",
    "* horse\n",
    "* ship\n",
    "* truck\n",
    "\n",
    "Understanding a dataset is part of making predictions on the data.  Play around with the code cell below by changing the `batch_id` and `sample_id`. The `batch_id` is the id for a batch (1-5). The `sample_id` is the id for a image and label pair in the batch.\n",
    "\n",
    "Ask yourself \"What are all possible labels?\", \"What is the range of values for the image data?\", \"Are the labels in order or random?\".  Answers to questions like these will help you preprocess the data and end up with better predictions."
   ]
  },
  {
   "cell_type": "code",
   "execution_count": 2,
   "metadata": {
    "collapsed": false,
    "deletable": true,
    "editable": true
   },
   "outputs": [
    {
     "name": "stdout",
     "output_type": "stream",
     "text": [
      "\n",
      "Stats of batch 1:\n",
      "Samples: 10000\n",
      "Label Counts: {0: 1005, 1: 974, 2: 1032, 3: 1016, 4: 999, 5: 937, 6: 1030, 7: 1001, 8: 1025, 9: 981}\n",
      "First 20 Labels: [6, 9, 9, 4, 1, 1, 2, 7, 8, 3, 4, 7, 7, 2, 9, 9, 9, 3, 2, 6]\n",
      "\n",
      "Example of Image 250:\n",
      "Image - Min Value: 6 Max Value: 245\n",
      "Image - Shape: (32, 32, 3)\n",
      "Label - Label Id: 1 Name: automobile\n"
     ]
    },
    {
     "data": {
      "image/png": "[encoded data removed]",
      "text/plain": [
       "<matplotlib.figure.Figure at 0x7f5e511ad5f8>"
      ]
     },
     "metadata": {
      "image/png": {
       "height": 250,
       "width": 253
      }
     },
     "output_type": "display_data"
    }
   ],
   "source": [
    "%matplotlib inline\n",
    "%config InlineBackend.figure_format = 'retina'\n",
    "\n",
    "import helper\n",
    "import numpy as np\n",
    "\n",
    "# Explore the dataset\n",
    "batch_id = 1\n",
    "sample_id = 250\n",
    "helper.display_stats(cifar10_dataset_folder_path, batch_id, sample_id)"
   ]
  },
  {
   "cell_type": "markdown",
   "metadata": {
    "deletable": true,
    "editable": true
   },
   "source": [
    "## Implement Preprocess Functions\n",
    "### Normalize\n",
    "In the cell below, implement the `normalize` function to take in image data, `x`, and return it as a normalized Numpy array. The values should be in the range of 0 to 1, inclusive.  The return object should be the same shape as `x`."
   ]
  },
  {
   "cell_type": "code",
   "execution_count": 3,
   "metadata": {
    "collapsed": false,
    "deletable": true,
    "editable": true
   },
   "outputs": [
    {
     "name": "stdout",
     "output_type": "stream",
     "text": [
      "Tests Passed\n"
     ]
    }
   ],
   "source": [
    "from sklearn import preprocessing\n",
    "\n",
    "def normalize(x):\n",
    "    \"\"\"\n",
    "    Normalize a list of sample image data in the range of 0 to 1\n",
    "    : x: List of image data.  The image shape is (32, 32, 3)\n",
    "    : return: Numpy array of normalize data\n",
    "    \"\"\"\n",
    "    # TODO: Implement Function\n",
    "    return x/255\n",
    "\n",
    "\"\"\"\n",
    "DON'T MODIFY ANYTHING IN THIS CELL THAT IS BELOW THIS LINE\n",
    "\"\"\"\n",
    "tests.test_normalize(normalize)"
   ]
  },
  {
   "cell_type": "markdown",
   "metadata": {
    "deletable": true,
    "editable": true
   },
   "source": [
    "### One-hot encode\n",
    "Just like the previous code cell, you'll be implementing a function for preprocessing.  This time, you'll implement the `one_hot_encode` function. The input, `x`, are a list of labels.  Implement the function to return the list of labels as One-Hot encoded Numpy array.  The possible values for labels are 0 to 9. The one-hot encoding function should return the same encoding for each value between each call to `one_hot_encode`.  Make sure to save the map of encodings outside the function.\n",
    "\n",
    "Hint: Don't reinvent the wheel."
   ]
  },
  {
   "cell_type": "code",
   "execution_count": 4,
   "metadata": {
    "collapsed": false,
    "deletable": true,
    "editable": true
   },
   "outputs": [
    {
     "name": "stdout",
     "output_type": "stream",
     "text": [
      "Tests Passed\n"
     ]
    }
   ],
   "source": [
    "import numpy as np\n",
    "\n",
    "def one_hot_encode(x):\n",
    "    \"\"\"\n",
    "    One hot encode a list of sample labels. Return a one-hot encoded vector for each label.\n",
    "    : x: List of sample Labels\n",
    "    : return: Numpy array of one-hot encoded labels\n",
    "    \"\"\"\n",
    "    return np.eye(10)[x]\n",
    "\n",
    "\"\"\"\n",
    "DON'T MODIFY ANYTHING IN THIS CELL THAT IS BELOW THIS LINE\n",
    "\"\"\"\n",
    "tests.test_one_hot_encode(one_hot_encode)"
   ]
  },
  {
   "cell_type": "markdown",
   "metadata": {
    "deletable": true,
    "editable": true
   },
   "source": [
    "### Randomize Data\n",
    "As you saw from exploring the data above, the order of the samples are randomized.  It doesn't hurt to randomize it again, but you don't need to for this dataset."
   ]
  },
  {
   "cell_type": "markdown",
   "metadata": {
    "deletable": true,
    "editable": true
   },
   "source": [
    "## Preprocess all the data and save it\n",
    "Running the code cell below will preprocess all the CIFAR-10 data and save it to file. The code below also uses 10% of the training data for validation."
   ]
  },
  {
   "cell_type": "code",
   "execution_count": 5,
   "metadata": {
    "collapsed": false,
    "deletable": true,
    "editable": true
   },
   "outputs": [],
   "source": [
    "\"\"\"\n",
    "DON'T MODIFY ANYTHING IN THIS CELL\n",
    "\"\"\"\n",
    "# Preprocess Training, Validation, and Testing Data\n",
    "helper.preprocess_and_save_data(cifar10_dataset_folder_path, normalize, one_hot_encode)"
   ]
  },
  {
   "cell_type": "markdown",
   "metadata": {
    "deletable": true,
    "editable": true
   },
   "source": [
    "# Check Point\n",
    "This is your first checkpoint.  If you ever decide to come back to this notebook or have to restart the notebook, you can start from here.  The preprocessed data has been saved to disk."
   ]
  },
  {
   "cell_type": "code",
   "execution_count": 1,
   "metadata": {
    "collapsed": false,
    "deletable": true,
    "editable": true
   },
   "outputs": [],
   "source": [
    "\"\"\"\n",
    "DON'T MODIFY ANYTHING IN THIS CELL\n",
    "\"\"\"\n",
    "import pickle\n",
    "import problem_unittests as tests\n",
    "import helper\n",
    "\n",
    "# Load the Preprocessed Validation data\n",
    "valid_features, valid_labels = pickle.load(open('preprocess_validation.p', mode='rb'))"
   ]
  },
  {
   "cell_type": "markdown",
   "metadata": {
    "deletable": true,
    "editable": true
   },
   "source": [
    "## Build the network\n",
    "For the neural network, you'll build each layer into a function.  Most of the code you've seen has been outside of functions. To test your code more thoroughly, we require that you put each layer in a function.  This allows us to give you better feedback and test for simple mistakes using our unittests before you submit your project.\n",
    "\n",
    ">**Note:** If you're finding it hard to dedicate enough time for this course each week, we've provided a small shortcut to this part of the project. In the next couple of problems, you'll have the option to use classes from the [TensorFlow Layers](https://www.tensorflow.org/api_docs/python/tf/layers) or [TensorFlow Layers (contrib)](https://www.tensorflow.org/api_guides/python/contrib.layers) packages to build each layer, except the layers you build in the \"Convolutional and Max Pooling Layer\" section.  TF Layers is similar to Keras's and TFLearn's abstraction to layers, so it's easy to pickup.\n",
    "\n",
    ">However, if you would like to get the most out of this course, try to solve all the problems _without_ using anything from the TF Layers packages. You **can** still use classes from other packages that happen to have the same name as ones you find in TF Layers! For example, instead of using the TF Layers version of the `conv2d` class, [tf.layers.conv2d](https://www.tensorflow.org/api_docs/python/tf/layers/conv2d), you would want to use the TF Neural Network version of `conv2d`, [tf.nn.conv2d](https://www.tensorflow.org/api_docs/python/tf/nn/conv2d). \n",
    "\n",
    "Let's begin!\n",
    "\n",
    "### Input\n",
    "The neural network needs to read the image data, one-hot encoded labels, and dropout keep probability. Implement the following functions\n",
    "* Implement `neural_net_image_input`\n",
    " * Return a [TF Placeholder](https://www.tensorflow.org/api_docs/python/tf/placeholder)\n",
    " * Set the shape using `image_shape` with batch size set to `None`.\n",
    " * Name the TensorFlow placeholder \"x\" using the TensorFlow `name` parameter in the [TF Placeholder](https://www.tensorflow.org/api_docs/python/tf/placeholder).\n",
    "* Implement `neural_net_label_input`\n",
    " * Return a [TF Placeholder](https://www.tensorflow.org/api_docs/python/tf/placeholder)\n",
    " * Set the shape using `n_classes` with batch size set to `None`.\n",
    " * Name the TensorFlow placeholder \"y\" using the TensorFlow `name` parameter in the [TF Placeholder](https://www.tensorflow.org/api_docs/python/tf/placeholder).\n",
    "* Implement `neural_net_keep_prob_input`\n",
    " * Return a [TF Placeholder](https://www.tensorflow.org/api_docs/python/tf/placeholder) for dropout keep probability.\n",
    " * Name the TensorFlow placeholder \"keep_prob\" using the TensorFlow `name` parameter in the [TF Placeholder](https://www.tensorflow.org/api_docs/python/tf/placeholder).\n",
    "\n",
    "These names will be used at the end of the project to load your saved model.\n",
    "\n",
    "Note: `None` for shapes in TensorFlow allow for a dynamic size."
   ]
  },
  {
   "cell_type": "code",
   "execution_count": 2,
   "metadata": {
    "collapsed": false,
    "deletable": true,
    "editable": true
   },
   "outputs": [
    {
     "name": "stdout",
     "output_type": "stream",
     "text": [
      "Image Input Tests Passed.\n",
      "Label Input Tests Passed.\n",
      "Keep Prob Tests Passed.\n"
     ]
    }
   ],
   "source": [
    "import tensorflow as tf\n",
    "\n",
    "def neural_net_image_input(image_shape):\n",
    "    \"\"\"\n",
    "    Return a Tensor for a bach of image input\n",
    "    : image_shape: Shape of the images\n",
    "    : return: Tensor for image input.\n",
    "    \"\"\"\n",
    "    # TODO: Implement Function\n",
    "    return tf.placeholder(tf.float32, shape = [None, *image_shape], name='x')\n",
    "\n",
    "\n",
    "def neural_net_label_input(n_classes):\n",
    "    \"\"\"\n",
    "    Return a Tensor for a batch of label input\n",
    "    : n_classes: Number of classes\n",
    "    : return: Tensor for label input.\n",
    "    \"\"\"\n",
    "    # TODO: Implement Function\n",
    "    return tf.placeholder(tf.float32, shape = [None, n_classes], name='y')\n",
    "\n",
    "\n",
    "def neural_net_keep_prob_input():\n",
    "    \"\"\"\n",
    "    Return a Tensor for keep probability\n",
    "    : return: Tensor for keep probability.\n",
    "    \"\"\"\n",
    "    # TODO: Implement Function\n",
    "    return tf.placeholder(tf.float32, name='keep_prob')\n",
    "\n",
    "\n",
    "\"\"\"\n",
    "DON'T MODIFY ANYTHING IN THIS CELL THAT IS BELOW THIS LINE\n",
    "\"\"\"\n",
    "tf.reset_default_graph()\n",
    "tests.test_nn_image_inputs(neural_net_image_input)\n",
    "tests.test_nn_label_inputs(neural_net_label_input)\n",
    "tests.test_nn_keep_prob_inputs(neural_net_keep_prob_input)"
   ]
  },
  {
   "cell_type": "markdown",
   "metadata": {
    "deletable": true,
    "editable": true
   },
   "source": [
    "### Convolution and Max Pooling Layer\n",
    "Convolution layers have a lot of success with images. For this code cell, you should implement the function `conv2d_maxpool` to apply convolution then max pooling:\n",
    "* Create the weight and bias using `conv_ksize`, `conv_num_outputs` and the shape of `x_tensor`.\n",
    "* Apply a convolution to `x_tensor` using weight and `conv_strides`.\n",
    " * We recommend you use same padding, but you're welcome to use any padding.\n",
    "* Add bias\n",
    "* Add a nonlinear activation to the convolution.\n",
    "* Apply Max Pooling using `pool_ksize` and `pool_strides`.\n",
    " * We recommend you use same padding, but you're welcome to use any padding.\n",
    "\n",
    "**Note:** You **can't** use [TensorFlow Layers](https://www.tensorflow.org/api_docs/python/tf/layers) or [TensorFlow Layers (contrib)](https://www.tensorflow.org/api_guides/python/contrib.layers) for **this** layer, but you can still use TensorFlow's [Neural Network](https://www.tensorflow.org/api_docs/python/tf/nn) package. You may still use the shortcut option for all the **other** layers."
   ]
  },
  {
   "cell_type": "code",
   "execution_count": 3,
   "metadata": {
    "collapsed": false,
    "deletable": true,
    "editable": true
   },
   "outputs": [
    {
     "name": "stdout",
     "output_type": "stream",
     "text": [
      "Tests Passed\n"
     ]
    }
   ],
   "source": [
    "def conv2d_maxpool(x_tensor, conv_num_outputs, conv_ksize, conv_strides, pool_ksize, pool_strides):\n",
    "    \"\"\"\n",
    "    Apply convolution then max pooling to x_tensor\n",
    "    :param x_tensor: TensorFlow Tensor\n",
    "    :param conv_num_outputs: Number of outputs for the convolutional layer\n",
    "    :param conv_ksize: kernal size 2-D Tuple for the convolutional layer\n",
    "    :param conv_strides: Stride 2-D Tuple for convolution\n",
    "    :param pool_ksize: kernal size 2-D Tuple for pool\n",
    "    :param pool_strides: Stride 2-D Tuple for pool\n",
    "    : return: A tensor that represents convolution and max pooling of x_tensor\n",
    "    \"\"\"\n",
    "    \n",
    "    k_output = conv_num_outputs\n",
    "\n",
    "    # Image Properties\n",
    "    color_channels = x_tensor.get_shape().as_list()[3]\n",
    "    \n",
    "    # Convolution filter\n",
    "    filter_size_height = conv_ksize[0]\n",
    "    filter_size_width = conv_ksize[1]\n",
    "    \n",
    "    # Input/Image\n",
    "    input = x_tensor\n",
    "\n",
    "    # Weight and bias\n",
    "    weight = tf.Variable(tf.truncated_normal(\n",
    "        [filter_size_height, filter_size_width, color_channels, k_output], stddev=0.05, mean=0))\n",
    "    bias = tf.Variable(tf.zeros(k_output))\n",
    "\n",
    "    # Apply Convolution\n",
    "    conv_layer = tf.nn.conv2d(input, weight, strides=[1,conv_strides[0],conv_strides[1],1] , padding='SAME')\n",
    "    # Add bias\n",
    "    conv_layer = tf.nn.bias_add(conv_layer, bias)\n",
    "    # Apply activation function\n",
    "    conv_layer = tf.nn.relu(conv_layer)\n",
    "    # Apply Max Pooling\n",
    "    conv_layer = tf.nn.max_pool(\n",
    "        conv_layer,\n",
    "        ksize=[1,pool_ksize[0], pool_ksize[1],1],\n",
    "        strides=[1,pool_strides[0],pool_strides[1],1],\n",
    "        padding='SAME')\n",
    "    return conv_layer\n",
    "\n",
    "\n",
    "\"\"\"\n",
    "DON'T MODIFY ANYTHING IN THIS CELL THAT IS BELOW THIS LINE\n",
    "\"\"\"\n",
    "tests.test_con_pool(conv2d_maxpool)"
   ]
  },
  {
   "cell_type": "markdown",
   "metadata": {
    "deletable": true,
    "editable": true
   },
   "source": [
    "### Flatten Layer\n",
    "Implement the `flatten` function to change the dimension of `x_tensor` from a 4-D tensor to a 2-D tensor.  The output should be the shape (*Batch Size*, *Flattened Image Size*). Shortcut option: you can use classes from the [TensorFlow Layers](https://www.tensorflow.org/api_docs/python/tf/layers) or [TensorFlow Layers (contrib)](https://www.tensorflow.org/api_guides/python/contrib.layers) packages for this layer. For more of a challenge, only use other TensorFlow packages."
   ]
  },
  {
   "cell_type": "code",
   "execution_count": 4,
   "metadata": {
    "collapsed": false,
    "deletable": true,
    "editable": true
   },
   "outputs": [
    {
     "name": "stdout",
     "output_type": "stream",
     "text": [
      "Tests Passed\n"
     ]
    }
   ],
   "source": [
    "def flatten(x_tensor):\n",
    "    \"\"\"\n",
    "    Flatten x_tensor to (Batch Size, Flattened Image Size)\n",
    "    : x_tensor: A tensor of size (Batch Size, ...), where ... are the image dimensions.\n",
    "    : return: A tensor of size (Batch Size, Flattened Image Size).\n",
    "    \"\"\"\n",
    "    # TODO: Implement Function\n",
    "    layer = x_tensor\n",
    "    # The shape of the input layer is assumed to be:\n",
    "    # layer_shape == [num_images, img_height, img_width, num_channels]\n",
    "\n",
    "    # The number of features is: img_height * img_width * num_channels\n",
    "    # We can use a function from TensorFlow to calculate this.\n",
    "    layer_shape = layer.get_shape()\n",
    "    num_features = layer_shape[1:4].num_elements()\n",
    "    \n",
    "    # Reshape the layer to [num_images, num_features].\n",
    "    # Note that we just set the size of the second dimension\n",
    "    # to num_features and the size of the first dimension to -1\n",
    "    # which means the size in that dimension is calculated\n",
    "    # so the total size of the tensor is unchanged from the reshaping.\n",
    "    layer_flat = tf.reshape(layer, [-1, num_features])\n",
    "\n",
    "    # The shape of the flattened layer is now:\n",
    "    # [num_images, img_height * img_width * num_channels]\n",
    "\n",
    "    # Return both the flattened layer and the number of features.\n",
    "    return layer_flat\n",
    "\n",
    "\n",
    "\"\"\"\n",
    "DON'T MODIFY ANYTHING IN THIS CELL THAT IS BELOW THIS LINE\n",
    "\"\"\"\n",
    "tests.test_flatten(flatten)"
   ]
  },
  {
   "cell_type": "markdown",
   "metadata": {
    "deletable": true,
    "editable": true
   },
   "source": [
    "### Fully-Connected Layer\n",
    "Implement the `fully_conn` function to apply a fully connected layer to `x_tensor` with the shape (*Batch Size*, *num_outputs*). Shortcut option: you can use classes from the [TensorFlow Layers](https://www.tensorflow.org/api_docs/python/tf/layers) or [TensorFlow Layers (contrib)](https://www.tensorflow.org/api_guides/python/contrib.layers) packages for this layer. For more of a challenge, only use other TensorFlow packages."
   ]
  },
  {
   "cell_type": "code",
   "execution_count": 5,
   "metadata": {
    "collapsed": false,
    "deletable": true,
    "editable": true
   },
   "outputs": [
    {
     "name": "stdout",
     "output_type": "stream",
     "text": [
      "Tests Passed\n"
     ]
    }
   ],
   "source": [
    "def fully_conn(x_tensor, num_outputs, use_relu=True):\n",
    "    \"\"\"\n",
    "    Apply a fully connected layer to x_tensor using weight and bias\n",
    "    : x_tensor: A 2-D tensor where the first dimension is batch size.\n",
    "    : num_outputs: The number of output that the new tensor should be.\n",
    "    : return: A 2-D tensor where the second dimension is num_outputs.\n",
    "    \"\"\"\n",
    "    # TODO: Implement Function\n",
    "    # Create new weights and biases.\n",
    "    input = x_tensor\n",
    "    \n",
    "    num_inputs = input.get_shape().as_list()[1]\n",
    "    \n",
    "    weights = tf.Variable(tf.truncated_normal([num_inputs , num_outputs], stddev=0.05, mean=0))\n",
    "    biases = tf.Variable(tf.zeros(num_outputs))\n",
    "\n",
    "    # Calculate the layer as the matrix multiplication of\n",
    "    # the input and weights, and then add the bias-values.\n",
    "    layer = tf.matmul(input, weights) + biases\n",
    "\n",
    "    # Use ReLU?\n",
    "    if use_relu:\n",
    "        layer = tf.nn.relu(layer)\n",
    "\n",
    "    return layer\n",
    "\n",
    "\n",
    "\"\"\"\n",
    "DON'T MODIFY ANYTHING IN THIS CELL THAT IS BELOW THIS LINE\n",
    "\"\"\"\n",
    "tests.test_fully_conn(fully_conn)"
   ]
  },
  {
   "cell_type": "markdown",
   "metadata": {
    "deletable": true,
    "editable": true
   },
   "source": [
    "### Output Layer\n",
    "Implement the `output` function to apply a fully connected layer to `x_tensor` with the shape (*Batch Size*, *num_outputs*). Shortcut option: you can use classes from the [TensorFlow Layers](https://www.tensorflow.org/api_docs/python/tf/layers) or [TensorFlow Layers (contrib)](https://www.tensorflow.org/api_guides/python/contrib.layers) packages for this layer. For more of a challenge, only use other TensorFlow packages.\n",
    "\n",
    "**Note:** Activation, softmax, or cross entropy should **not** be applied to this."
   ]
  },
  {
   "cell_type": "code",
   "execution_count": 6,
   "metadata": {
    "collapsed": false,
    "deletable": true,
    "editable": true
   },
   "outputs": [
    {
     "name": "stdout",
     "output_type": "stream",
     "text": [
      "Tests Passed\n"
     ]
    }
   ],
   "source": [
    "def output(x_tensor, num_outputs):\n",
    "    \"\"\"\n",
    "    Apply a output layer to x_tensor using weight and bias\n",
    "    : x_tensor: A 2-D tensor where the first dimension is batch size.\n",
    "    : num_outputs: The number of output that the new tensor should be.\n",
    "    : return: A 2-D tensor where the second dimension is num_outputs.\n",
    "    \"\"\"\n",
    "    # TODO: Implement Function\n",
    "    return fully_conn(x_tensor, num_outputs, use_relu=False)\n",
    "\n",
    "\n",
    "\"\"\"\n",
    "DON'T MODIFY ANYTHING IN THIS CELL THAT IS BELOW THIS LINE\n",
    "\"\"\"\n",
    "tests.test_output(output)"
   ]
  },
  {
   "cell_type": "markdown",
   "metadata": {
    "deletable": true,
    "editable": true
   },
   "source": [
    "### Create Convolutional Model\n",
    "Implement the function `conv_net` to create a convolutional neural network model. The function takes in a batch of images, `x`, and outputs logits.  Use the layers you created above to create this model:\n",
    "\n",
    "* Apply 1, 2, or 3 Convolution and Max Pool layers\n",
    "* Apply a Flatten Layer\n",
    "* Apply 1, 2, or 3 Fully Connected Layers\n",
    "* Apply an Output Layer\n",
    "* Return the output\n",
    "* Apply [TensorFlow's Dropout](https://www.tensorflow.org/api_docs/python/tf/nn/dropout) to one or more layers in the model using `keep_prob`. "
   ]
  },
  {
   "cell_type": "code",
   "execution_count": 7,
   "metadata": {
    "collapsed": false,
    "deletable": true,
    "editable": true
   },
   "outputs": [
    {
     "name": "stdout",
     "output_type": "stream",
     "text": [
      "Neural Network Built!\n"
     ]
    }
   ],
   "source": [
    "def conv_net(x, keep_prob):\n",
    "    \"\"\"\n",
    "    Create a convolutional neural network model\n",
    "    : x: Placeholder tensor that holds image data.\n",
    "    : keep_prob: Placeholder tensor that hold dropout keep probability.\n",
    "    : return: Tensor that represents logits\n",
    "    \"\"\"\n",
    "    \n",
    "    # TODO: Apply 1, 2, or 3 Convolution and Max Pool layers\n",
    "    #    Play around with different number of outputs, kernel size and stride\n",
    "    # conv-maxpool-layer parameters\n",
    "    x_tensor = x\n",
    "    conv_num_outputs1 = 64\n",
    "    conv_num_outputs2 = 64\n",
    "    conv_ksize = (5,5)\n",
    "    conv_strides = (1,1)\n",
    "    pool_ksize = (2,2)\n",
    "    pool_strides = (2,2)\n",
    "\n",
    "    # Function Definition from Above:\n",
    "    conv1 = conv2d_maxpool(x_tensor, conv_num_outputs1, conv_ksize, conv_strides, pool_ksize, pool_strides)\n",
    "    conv2 = conv2d_maxpool(conv1,conv_num_outputs2, conv_ksize, conv_strides, pool_ksize, pool_strides)\n",
    "    \n",
    "    # TODO: Apply a Flatten Layer\n",
    "    # Function Definition from Above:\n",
    "    flat1 = flatten(conv2)\n",
    "    \n",
    "    # TODO: Apply 1, 2, or 3 Fully Connected Layers\n",
    "    #    Play around with different number of outputs   \n",
    "    # fully-connected-layer parameters\n",
    "    fc1_n_output = 256\n",
    "    fc2_n_output = 128\n",
    "    fc3_n_output = 64\n",
    "   \n",
    "    # Function Definition from Above:\n",
    "    fc1 = fully_conn(flat1, fc1_n_output)\n",
    "    fc1 = tf.nn.dropout(fc1, keep_prob)\n",
    "    \n",
    "    fc2 = fully_conn(fc1, fc2_n_output)\n",
    "    fc2 = tf.nn.dropout(fc2, keep_prob)\n",
    "    \n",
    "    fc3 = fully_conn(fc2, fc3_n_output)\n",
    "    fc3 = tf.nn.dropout(fc3, keep_prob)\n",
    "    \n",
    "    # TODO: Apply an Output Layer\n",
    "    #    Set this to the number of classes\n",
    "    final_n_outputs = 10 #number of classes\n",
    "    \n",
    "    # Function Definition from Above:\n",
    "    out = output(fc3, final_n_outputs)\n",
    "    \n",
    "    # TODO: return output\n",
    "    return out\n",
    "\n",
    "\n",
    "\"\"\"\n",
    "DON'T MODIFY ANYTHING IN THIS CELL THAT IS BELOW THIS LINE\n",
    "\"\"\"\n",
    "\n",
    "##############################\n",
    "## Build the Neural Network ##\n",
    "##############################\n",
    "\n",
    "# Remove previous weights, bias, inputs, etc..\n",
    "tf.reset_default_graph()\n",
    "\n",
    "# Inputs\n",
    "x = neural_net_image_input((32, 32, 3))\n",
    "y = neural_net_label_input(10)\n",
    "keep_prob = neural_net_keep_prob_input()\n",
    "\n",
    "# Model\n",
    "logits = conv_net(x, keep_prob)\n",
    "\n",
    "# Name logits Tensor, so that is can be loaded from disk after training\n",
    "logits = tf.identity(logits, name='logits')\n",
    "\n",
    "# Loss and Optimizer\n",
    "cost = tf.reduce_mean(tf.nn.softmax_cross_entropy_with_logits(logits=logits, labels=y))\n",
    "optimizer = tf.train.AdamOptimizer().minimize(cost)\n",
    "\n",
    "# Accuracy\n",
    "correct_pred = tf.equal(tf.argmax(logits, 1), tf.argmax(y, 1))\n",
    "accuracy = tf.reduce_mean(tf.cast(correct_pred, tf.float32), name='accuracy')\n",
    "\n",
    "tests.test_conv_net(conv_net)"
   ]
  },
  {
   "cell_type": "markdown",
   "metadata": {
    "deletable": true,
    "editable": true
   },
   "source": [
    "## Train the Neural Network\n",
    "### Single Optimization\n",
    "Implement the function `train_neural_network` to do a single optimization.  The optimization should use `optimizer` to optimize in `session` with a `feed_dict` of the following:\n",
    "* `x` for image input\n",
    "* `y` for labels\n",
    "* `keep_prob` for keep probability for dropout\n",
    "\n",
    "This function will be called for each batch, so `tf.global_variables_initializer()` has already been called.\n",
    "\n",
    "Note: Nothing needs to be returned. This function is only optimizing the neural network."
   ]
  },
  {
   "cell_type": "code",
   "execution_count": 8,
   "metadata": {
    "collapsed": false,
    "deletable": true,
    "editable": true
   },
   "outputs": [
    {
     "name": "stdout",
     "output_type": "stream",
     "text": [
      "Tests Passed\n"
     ]
    }
   ],
   "source": [
    "def train_neural_network(session, optimizer, keep_probability, feature_batch, label_batch):\n",
    "    \"\"\"\n",
    "    Optimize the session on a batch of images and labels\n",
    "    : session: Current TensorFlow session\n",
    "    : optimizer: TensorFlow optimizer function\n",
    "    : keep_probability: keep probability\n",
    "    : feature_batch: Batch of Numpy image data\n",
    "    : label_batch: Batch of Numpy label data\n",
    "    \"\"\"\n",
    "    # TODO: Implement Function\n",
    "    session.run(optimizer, feed_dict={x: feature_batch, y: label_batch, keep_prob: keep_probability})\n",
    "\n",
    "\n",
    "\"\"\"\n",
    "DON'T MODIFY ANYTHING IN THIS CELL THAT IS BELOW THIS LINE\n",
    "\"\"\"\n",
    "tests.test_train_nn(train_neural_network)"
   ]
  },
  {
   "cell_type": "markdown",
   "metadata": {
    "deletable": true,
    "editable": true
   },
   "source": [
    "### Show Stats\n",
    "Implement the function `print_stats` to print loss and validation accuracy.  Use the global variables `valid_features` and `valid_labels` to calculate validation accuracy.  Use a keep probability of `1.0` to calculate the loss and validation accuracy."
   ]
  },
  {
   "cell_type": "code",
   "execution_count": 9,
   "metadata": {
    "collapsed": false,
    "deletable": true,
    "editable": true
   },
   "outputs": [],
   "source": [
    "def print_stats(session, feature_batch, label_batch, cost, accuracy):\n",
    "    \"\"\"\n",
    "    Print information about loss and validation accuracy\n",
    "    : session: Current TensorFlow session\n",
    "    : feature_batch: Batch of Numpy image data\n",
    "    : label_batch: Batch of Numpy label data\n",
    "    : cost: TensorFlow cost function\n",
    "    : accuracy: TensorFlow accuracy function\n",
    "    \"\"\"\n",
    "    # TODO: Implement Function\n",
    "    training_loss = sess.run(cost, feed_dict={x: feature_batch, y: label_batch, keep_prob: 1.})   \n",
    "    validation_acc = sess.run(accuracy, feed_dict={x: valid_features, y: valid_labels, keep_prob: 1.})\n",
    "    \n",
    "    print(\"Training Loss: {:.4f}; Validation Accuracy: {:.4f}\".format(training_loss,validation_acc))"
   ]
  },
  {
   "cell_type": "markdown",
   "metadata": {
    "deletable": true,
    "editable": true
   },
   "source": [
    "### Hyperparameters\n",
    "Tune the following parameters:\n",
    "* Set `epochs` to the number of iterations until the network stops learning or start overfitting\n",
    "* Set `batch_size` to the highest number that your machine has memory for.  Most people set them to common sizes of memory:\n",
    " * 64\n",
    " * 128\n",
    " * 256\n",
    " * ...\n",
    "* Set `keep_probability` to the probability of keeping a node using dropout"
   ]
  },
  {
   "cell_type": "code",
   "execution_count": 10,
   "metadata": {
    "collapsed": true,
    "deletable": true,
    "editable": true
   },
   "outputs": [],
   "source": [
    "# TODO: Tune Parameters\n",
    "epochs = 25\n",
    "batch_size = 128\n",
    "keep_probability = 0.6"
   ]
  },
  {
   "cell_type": "markdown",
   "metadata": {
    "deletable": true,
    "editable": true
   },
   "source": [
    "### Train on a Single CIFAR-10 Batch\n",
    "Instead of training the neural network on all the CIFAR-10 batches of data, let's use a single batch. This should save time while you iterate on the model to get a better accuracy.  Once the final validation accuracy is 50% or greater, run the model on all the data in the next section."
   ]
  },
  {
   "cell_type": "code",
   "execution_count": 11,
   "metadata": {
    "collapsed": false,
    "deletable": true,
    "editable": true
   },
   "outputs": [
    {
     "name": "stdout",
     "output_type": "stream",
     "text": [
      "Checking the Training on a Single Batch...\n",
      "Epoch  1, CIFAR-10 Batch 1:  Training Loss: 2.1959; Validation Accuracy: 0.2500\n",
      "Epoch  2, CIFAR-10 Batch 1:  Training Loss: 1.9380; Validation Accuracy: 0.3276\n",
      "Epoch  3, CIFAR-10 Batch 1:  Training Loss: 1.7831; Validation Accuracy: 0.3942\n",
      "Epoch  4, CIFAR-10 Batch 1:  Training Loss: 1.6256; Validation Accuracy: 0.4484\n",
      "Epoch  5, CIFAR-10 Batch 1:  Training Loss: 1.4530; Validation Accuracy: 0.4590\n",
      "Epoch  6, CIFAR-10 Batch 1:  Training Loss: 1.3174; Validation Accuracy: 0.4836\n",
      "Epoch  7, CIFAR-10 Batch 1:  Training Loss: 1.1929; Validation Accuracy: 0.5114\n",
      "Epoch  8, CIFAR-10 Batch 1:  Training Loss: 1.1739; Validation Accuracy: 0.4930\n",
      "Epoch  9, CIFAR-10 Batch 1:  Training Loss: 0.9273; Validation Accuracy: 0.5106\n",
      "Epoch 10, CIFAR-10 Batch 1:  Training Loss: 0.8316; Validation Accuracy: 0.5388\n",
      "Epoch 11, CIFAR-10 Batch 1:  Training Loss: 0.7333; Validation Accuracy: 0.5378\n",
      "Epoch 12, CIFAR-10 Batch 1:  Training Loss: 0.6116; Validation Accuracy: 0.5456\n",
      "Epoch 13, CIFAR-10 Batch 1:  Training Loss: 0.5961; Validation Accuracy: 0.5352\n",
      "Epoch 14, CIFAR-10 Batch 1:  Training Loss: 0.5182; Validation Accuracy: 0.5560\n",
      "Epoch 15, CIFAR-10 Batch 1:  Training Loss: 0.4938; Validation Accuracy: 0.5692\n",
      "Epoch 16, CIFAR-10 Batch 1:  Training Loss: 0.3935; Validation Accuracy: 0.5810\n",
      "Epoch 17, CIFAR-10 Batch 1:  Training Loss: 0.3537; Validation Accuracy: 0.5606\n",
      "Epoch 18, CIFAR-10 Batch 1:  Training Loss: 0.3289; Validation Accuracy: 0.5660\n",
      "Epoch 19, CIFAR-10 Batch 1:  Training Loss: 0.2548; Validation Accuracy: 0.5664\n",
      "Epoch 20, CIFAR-10 Batch 1:  Training Loss: 0.2112; Validation Accuracy: 0.5804\n",
      "Epoch 21, CIFAR-10 Batch 1:  Training Loss: 0.1820; Validation Accuracy: 0.5656\n",
      "Epoch 22, CIFAR-10 Batch 1:  Training Loss: 0.2229; Validation Accuracy: 0.5654\n",
      "Epoch 23, CIFAR-10 Batch 1:  Training Loss: 0.2013; Validation Accuracy: 0.5618\n",
      "Epoch 24, CIFAR-10 Batch 1:  Training Loss: 0.1400; Validation Accuracy: 0.5470\n",
      "Epoch 25, CIFAR-10 Batch 1:  Training Loss: 0.1487; Validation Accuracy: 0.5706\n"
     ]
    }
   ],
   "source": [
    "\"\"\"\n",
    "DON'T MODIFY ANYTHING IN THIS CELL\n",
    "\"\"\"\n",
    "print('Checking the Training on a Single Batch...')\n",
    "with tf.Session() as sess:\n",
    "    # Initializing the variables\n",
    "    sess.run(tf.global_variables_initializer())\n",
    "    \n",
    "    # Training cycle\n",
    "    for epoch in range(epochs):\n",
    "        batch_i = 1\n",
    "        for batch_features, batch_labels in helper.load_preprocess_training_batch(batch_i, batch_size):\n",
    "            train_neural_network(sess, optimizer, keep_probability, batch_features, batch_labels)\n",
    "        print('Epoch {:>2}, CIFAR-10 Batch {}:  '.format(epoch + 1, batch_i), end='')\n",
    "        print_stats(sess, batch_features, batch_labels, cost, accuracy)"
   ]
  },
  {
   "cell_type": "markdown",
   "metadata": {
    "deletable": true,
    "editable": true
   },
   "source": [
    "### Fully Train the Model\n",
    "Now that you got a good accuracy with a single CIFAR-10 batch, try it with all five batches."
   ]
  },
  {
   "cell_type": "code",
   "execution_count": 12,
   "metadata": {
    "collapsed": false,
    "deletable": true,
    "editable": true
   },
   "outputs": [
    {
     "name": "stdout",
     "output_type": "stream",
     "text": [
      "Training...\n",
      "Epoch  1, CIFAR-10 Batch 1:  Training Loss: 2.1009; Validation Accuracy: 0.2606\n",
      "Epoch  1, CIFAR-10 Batch 2:  Training Loss: 1.8521; Validation Accuracy: 0.3128\n",
      "Epoch  1, CIFAR-10 Batch 3:  Training Loss: 1.4519; Validation Accuracy: 0.3946\n",
      "Epoch  1, CIFAR-10 Batch 4:  Training Loss: 1.5595; Validation Accuracy: 0.4286\n",
      "Epoch  1, CIFAR-10 Batch 5:  Training Loss: 1.4787; Validation Accuracy: 0.4774\n",
      "Epoch  2, CIFAR-10 Batch 1:  Training Loss: 1.6583; Validation Accuracy: 0.4804\n",
      "Epoch  2, CIFAR-10 Batch 2:  Training Loss: 1.3873; Validation Accuracy: 0.4928\n",
      "Epoch  2, CIFAR-10 Batch 3:  Training Loss: 1.1520; Validation Accuracy: 0.5078\n",
      "Epoch  2, CIFAR-10 Batch 4:  Training Loss: 1.2540; Validation Accuracy: 0.5380\n",
      "Epoch  2, CIFAR-10 Batch 5:  Training Loss: 1.2460; Validation Accuracy: 0.5480\n",
      "Epoch  3, CIFAR-10 Batch 1:  Training Loss: 1.3001; Validation Accuracy: 0.5362\n",
      "Epoch  3, CIFAR-10 Batch 2:  Training Loss: 1.0803; Validation Accuracy: 0.5442\n",
      "Epoch  3, CIFAR-10 Batch 3:  Training Loss: 0.8705; Validation Accuracy: 0.5766\n",
      "Epoch  3, CIFAR-10 Batch 4:  Training Loss: 1.0761; Validation Accuracy: 0.5778\n",
      "Epoch  3, CIFAR-10 Batch 5:  Training Loss: 0.9812; Validation Accuracy: 0.5892\n",
      "Epoch  4, CIFAR-10 Batch 1:  Training Loss: 1.0410; Validation Accuracy: 0.5866\n",
      "Epoch  4, CIFAR-10 Batch 2:  Training Loss: 0.9885; Validation Accuracy: 0.5904\n",
      "Epoch  4, CIFAR-10 Batch 3:  Training Loss: 0.7915; Validation Accuracy: 0.6026\n",
      "Epoch  4, CIFAR-10 Batch 4:  Training Loss: 0.8692; Validation Accuracy: 0.6144\n",
      "Epoch  4, CIFAR-10 Batch 5:  Training Loss: 0.8551; Validation Accuracy: 0.5990\n",
      "Epoch  5, CIFAR-10 Batch 1:  Training Loss: 0.8821; Validation Accuracy: 0.6340\n",
      "Epoch  5, CIFAR-10 Batch 2:  Training Loss: 0.7432; Validation Accuracy: 0.6154\n",
      "Epoch  5, CIFAR-10 Batch 3:  Training Loss: 0.6222; Validation Accuracy: 0.6448\n",
      "Epoch  5, CIFAR-10 Batch 4:  Training Loss: 0.7108; Validation Accuracy: 0.6374\n",
      "Epoch  5, CIFAR-10 Batch 5:  Training Loss: 0.6966; Validation Accuracy: 0.6328\n",
      "Epoch  6, CIFAR-10 Batch 1:  Training Loss: 0.7566; Validation Accuracy: 0.6620\n",
      "Epoch  6, CIFAR-10 Batch 2:  Training Loss: 0.7329; Validation Accuracy: 0.6406\n",
      "Epoch  6, CIFAR-10 Batch 3:  Training Loss: 0.5941; Validation Accuracy: 0.6588\n",
      "Epoch  6, CIFAR-10 Batch 4:  Training Loss: 0.6483; Validation Accuracy: 0.6678\n",
      "Epoch  6, CIFAR-10 Batch 5:  Training Loss: 0.5801; Validation Accuracy: 0.6666\n",
      "Epoch  7, CIFAR-10 Batch 1:  Training Loss: 0.6507; Validation Accuracy: 0.6596\n",
      "Epoch  7, CIFAR-10 Batch 2:  Training Loss: 0.5477; Validation Accuracy: 0.6654\n",
      "Epoch  7, CIFAR-10 Batch 3:  Training Loss: 0.4827; Validation Accuracy: 0.6600\n",
      "Epoch  7, CIFAR-10 Batch 4:  Training Loss: 0.5820; Validation Accuracy: 0.6732\n",
      "Epoch  7, CIFAR-10 Batch 5:  Training Loss: 0.5095; Validation Accuracy: 0.6724\n",
      "Epoch  8, CIFAR-10 Batch 1:  Training Loss: 0.5027; Validation Accuracy: 0.6596\n",
      "Epoch  8, CIFAR-10 Batch 2:  Training Loss: 0.4945; Validation Accuracy: 0.6580\n",
      "Epoch  8, CIFAR-10 Batch 3:  Training Loss: 0.3868; Validation Accuracy: 0.6588\n",
      "Epoch  8, CIFAR-10 Batch 4:  Training Loss: 0.5298; Validation Accuracy: 0.6656\n",
      "Epoch  8, CIFAR-10 Batch 5:  Training Loss: 0.3759; Validation Accuracy: 0.6866\n",
      "Epoch  9, CIFAR-10 Batch 1:  Training Loss: 0.4405; Validation Accuracy: 0.6782\n",
      "Epoch  9, CIFAR-10 Batch 2:  Training Loss: 0.4493; Validation Accuracy: 0.6848\n",
      "Epoch  9, CIFAR-10 Batch 3:  Training Loss: 0.3393; Validation Accuracy: 0.6842\n",
      "Epoch  9, CIFAR-10 Batch 4:  Training Loss: 0.4271; Validation Accuracy: 0.6712\n",
      "Epoch  9, CIFAR-10 Batch 5:  Training Loss: 0.3152; Validation Accuracy: 0.6946\n",
      "Epoch 10, CIFAR-10 Batch 1:  Training Loss: 0.4247; Validation Accuracy: 0.6946\n",
      "Epoch 10, CIFAR-10 Batch 2:  Training Loss: 0.4318; Validation Accuracy: 0.6854\n",
      "Epoch 10, CIFAR-10 Batch 3:  Training Loss: 0.2710; Validation Accuracy: 0.6908\n",
      "Epoch 10, CIFAR-10 Batch 4:  Training Loss: 0.3806; Validation Accuracy: 0.6878\n",
      "Epoch 10, CIFAR-10 Batch 5:  Training Loss: 0.2838; Validation Accuracy: 0.6974\n",
      "Epoch 11, CIFAR-10 Batch 1:  Training Loss: 0.3170; Validation Accuracy: 0.6872\n",
      "Epoch 11, CIFAR-10 Batch 2:  Training Loss: 0.3580; Validation Accuracy: 0.6964\n",
      "Epoch 11, CIFAR-10 Batch 3:  Training Loss: 0.2175; Validation Accuracy: 0.6878\n",
      "Epoch 11, CIFAR-10 Batch 4:  Training Loss: 0.3490; Validation Accuracy: 0.6944\n",
      "Epoch 11, CIFAR-10 Batch 5:  Training Loss: 0.3011; Validation Accuracy: 0.6944\n",
      "Epoch 12, CIFAR-10 Batch 1:  Training Loss: 0.3366; Validation Accuracy: 0.6868\n",
      "Epoch 12, CIFAR-10 Batch 2:  Training Loss: 0.2692; Validation Accuracy: 0.6946\n",
      "Epoch 12, CIFAR-10 Batch 3:  Training Loss: 0.1842; Validation Accuracy: 0.6866\n",
      "Epoch 12, CIFAR-10 Batch 4:  Training Loss: 0.2727; Validation Accuracy: 0.6856\n",
      "Epoch 12, CIFAR-10 Batch 5:  Training Loss: 0.2324; Validation Accuracy: 0.6968\n",
      "Epoch 13, CIFAR-10 Batch 1:  Training Loss: 0.2406; Validation Accuracy: 0.6912\n",
      "Epoch 13, CIFAR-10 Batch 2:  Training Loss: 0.2439; Validation Accuracy: 0.6978\n",
      "Epoch 13, CIFAR-10 Batch 3:  Training Loss: 0.2031; Validation Accuracy: 0.6846\n",
      "Epoch 13, CIFAR-10 Batch 4:  Training Loss: 0.2370; Validation Accuracy: 0.6910\n",
      "Epoch 13, CIFAR-10 Batch 5:  Training Loss: 0.1996; Validation Accuracy: 0.6974\n",
      "Epoch 14, CIFAR-10 Batch 1:  Training Loss: 0.2593; Validation Accuracy: 0.6930\n",
      "Epoch 14, CIFAR-10 Batch 2:  Training Loss: 0.1958; Validation Accuracy: 0.6898\n",
      "Epoch 14, CIFAR-10 Batch 3:  Training Loss: 0.1892; Validation Accuracy: 0.7018\n",
      "Epoch 14, CIFAR-10 Batch 4:  Training Loss: 0.2050; Validation Accuracy: 0.6862\n",
      "Epoch 14, CIFAR-10 Batch 5:  Training Loss: 0.1975; Validation Accuracy: 0.6982\n",
      "Epoch 15, CIFAR-10 Batch 1:  Training Loss: 0.2235; Validation Accuracy: 0.6866\n",
      "Epoch 15, CIFAR-10 Batch 2:  Training Loss: 0.1770; Validation Accuracy: 0.6982\n",
      "Epoch 15, CIFAR-10 Batch 3:  Training Loss: 0.1957; Validation Accuracy: 0.6940\n",
      "Epoch 15, CIFAR-10 Batch 4:  Training Loss: 0.1668; Validation Accuracy: 0.6992\n",
      "Epoch 15, CIFAR-10 Batch 5:  Training Loss: 0.1869; Validation Accuracy: 0.7070\n",
      "Epoch 16, CIFAR-10 Batch 1:  Training Loss: 0.1896; Validation Accuracy: 0.6964\n",
      "Epoch 16, CIFAR-10 Batch 2:  Training Loss: 0.1989; Validation Accuracy: 0.6964\n",
      "Epoch 16, CIFAR-10 Batch 3:  Training Loss: 0.1723; Validation Accuracy: 0.7050\n",
      "Epoch 16, CIFAR-10 Batch 4:  Training Loss: 0.1853; Validation Accuracy: 0.6892\n",
      "Epoch 16, CIFAR-10 Batch 5:  Training Loss: 0.1661; Validation Accuracy: 0.7004\n",
      "Epoch 17, CIFAR-10 Batch 1:  Training Loss: 0.1571; Validation Accuracy: 0.6946\n",
      "Epoch 17, CIFAR-10 Batch 2:  Training Loss: 0.1684; Validation Accuracy: 0.7026\n",
      "Epoch 17, CIFAR-10 Batch 3:  Training Loss: 0.1159; Validation Accuracy: 0.7072\n",
      "Epoch 17, CIFAR-10 Batch 4:  Training Loss: 0.1351; Validation Accuracy: 0.7058\n",
      "Epoch 17, CIFAR-10 Batch 5:  Training Loss: 0.1548; Validation Accuracy: 0.7030\n",
      "Epoch 18, CIFAR-10 Batch 1:  Training Loss: 0.1348; Validation Accuracy: 0.7000\n",
      "Epoch 18, CIFAR-10 Batch 2:  Training Loss: 0.1362; Validation Accuracy: 0.7112\n",
      "Epoch 18, CIFAR-10 Batch 3:  Training Loss: 0.0994; Validation Accuracy: 0.7038\n",
      "Epoch 18, CIFAR-10 Batch 4:  Training Loss: 0.1483; Validation Accuracy: 0.7030\n",
      "Epoch 18, CIFAR-10 Batch 5:  Training Loss: 0.0961; Validation Accuracy: 0.7012\n",
      "Epoch 19, CIFAR-10 Batch 1:  Training Loss: 0.1579; Validation Accuracy: 0.6916\n",
      "Epoch 19, CIFAR-10 Batch 2:  Training Loss: 0.1244; Validation Accuracy: 0.7134\n",
      "Epoch 19, CIFAR-10 Batch 3:  Training Loss: 0.0762; Validation Accuracy: 0.7082\n",
      "Epoch 19, CIFAR-10 Batch 4:  Training Loss: 0.1424; Validation Accuracy: 0.7050\n",
      "Epoch 19, CIFAR-10 Batch 5:  Training Loss: 0.1462; Validation Accuracy: 0.7052\n",
      "Epoch 20, CIFAR-10 Batch 1:  Training Loss: 0.1256; Validation Accuracy: 0.6974\n",
      "Epoch 20, CIFAR-10 Batch 2:  Training Loss: 0.1311; Validation Accuracy: 0.7076\n",
      "Epoch 20, CIFAR-10 Batch 3:  Training Loss: 0.0837; Validation Accuracy: 0.7156\n",
      "Epoch 20, CIFAR-10 Batch 4:  Training Loss: 0.1178; Validation Accuracy: 0.7058\n",
      "Epoch 20, CIFAR-10 Batch 5:  Training Loss: 0.1184; Validation Accuracy: 0.7082\n",
      "Epoch 21, CIFAR-10 Batch 1:  Training Loss: 0.1289; Validation Accuracy: 0.6958\n",
      "Epoch 21, CIFAR-10 Batch 2:  Training Loss: 0.1075; Validation Accuracy: 0.7006\n",
      "Epoch 21, CIFAR-10 Batch 3:  Training Loss: 0.0839; Validation Accuracy: 0.7166\n",
      "Epoch 21, CIFAR-10 Batch 4:  Training Loss: 0.0934; Validation Accuracy: 0.7174\n",
      "Epoch 21, CIFAR-10 Batch 5:  Training Loss: 0.1165; Validation Accuracy: 0.7030\n",
      "Epoch 22, CIFAR-10 Batch 1:  Training Loss: 0.1231; Validation Accuracy: 0.7010\n",
      "Epoch 22, CIFAR-10 Batch 2:  Training Loss: 0.1260; Validation Accuracy: 0.7008\n",
      "Epoch 22, CIFAR-10 Batch 3:  Training Loss: 0.0735; Validation Accuracy: 0.7142\n",
      "Epoch 22, CIFAR-10 Batch 4:  Training Loss: 0.0837; Validation Accuracy: 0.7194\n",
      "Epoch 22, CIFAR-10 Batch 5:  Training Loss: 0.0859; Validation Accuracy: 0.7058\n",
      "Epoch 23, CIFAR-10 Batch 1:  Training Loss: 0.1550; Validation Accuracy: 0.6974\n",
      "Epoch 23, CIFAR-10 Batch 2:  Training Loss: 0.1002; Validation Accuracy: 0.7030\n",
      "Epoch 23, CIFAR-10 Batch 3:  Training Loss: 0.0580; Validation Accuracy: 0.7126\n",
      "Epoch 23, CIFAR-10 Batch 4:  Training Loss: 0.1030; Validation Accuracy: 0.7086\n",
      "Epoch 23, CIFAR-10 Batch 5:  Training Loss: 0.0969; Validation Accuracy: 0.7096\n",
      "Epoch 24, CIFAR-10 Batch 1:  Training Loss: 0.0856; Validation Accuracy: 0.7114\n",
      "Epoch 24, CIFAR-10 Batch 2:  Training Loss: 0.0626; Validation Accuracy: 0.7054\n",
      "Epoch 24, CIFAR-10 Batch 3:  Training Loss: 0.0687; Validation Accuracy: 0.7106\n",
      "Epoch 24, CIFAR-10 Batch 4:  Training Loss: 0.0767; Validation Accuracy: 0.7050\n",
      "Epoch 24, CIFAR-10 Batch 5:  Training Loss: 0.0679; Validation Accuracy: 0.7086\n",
      "Epoch 25, CIFAR-10 Batch 1:  Training Loss: 0.0732; Validation Accuracy: 0.7136\n",
      "Epoch 25, CIFAR-10 Batch 2:  Training Loss: 0.0679; Validation Accuracy: 0.7082\n",
      "Epoch 25, CIFAR-10 Batch 3:  Training Loss: 0.0668; Validation Accuracy: 0.7066\n",
      "Epoch 25, CIFAR-10 Batch 4:  Training Loss: 0.0719; Validation Accuracy: 0.7058\n",
      "Epoch 25, CIFAR-10 Batch 5:  Training Loss: 0.0826; Validation Accuracy: 0.7098\n"
     ]
    }
   ],
   "source": [
    "\"\"\"\n",
    "DON'T MODIFY ANYTHING IN THIS CELL\n",
    "\"\"\"\n",
    "save_model_path = './image_classification'\n",
    "\n",
    "print('Training...')\n",
    "with tf.Session() as sess:\n",
    "    # Initializing the variables\n",
    "    sess.run(tf.global_variables_initializer())\n",
    "    \n",
    "    # Training cycle\n",
    "    for epoch in range(epochs):\n",
    "        # Loop over all batches\n",
    "        n_batches = 5\n",
    "        for batch_i in range(1, n_batches + 1):\n",
    "            for batch_features, batch_labels in helper.load_preprocess_training_batch(batch_i, batch_size):\n",
    "                train_neural_network(sess, optimizer, keep_probability, batch_features, batch_labels)\n",
    "            print('Epoch {:>2}, CIFAR-10 Batch {}:  '.format(epoch + 1, batch_i), end='')\n",
    "            print_stats(sess, batch_features, batch_labels, cost, accuracy)\n",
    "            \n",
    "    # Save Model\n",
    "    saver = tf.train.Saver()\n",
    "    save_path = saver.save(sess, save_model_path)"
   ]
  },
  {
   "cell_type": "markdown",
   "metadata": {
    "deletable": true,
    "editable": true
   },
   "source": [
    "# Checkpoint\n",
    "The model has been saved to disk.\n",
    "## Test Model\n",
    "Test your model against the test dataset.  This will be your final accuracy. You should have an accuracy greater than 50%. If you don't, keep tweaking the model architecture and parameters."
   ]
  },
  {
   "cell_type": "code",
   "execution_count": 13,
   "metadata": {
    "collapsed": false,
    "deletable": true,
    "editable": true
   },
   "outputs": [
    {
     "name": "stdout",
     "output_type": "stream",
     "text": [
      "Testing Accuracy: 0.6999604430379747\n",
      "\n"
     ]
    },
    {
     "data": {
      "image/png": "[encoded data removed]",
      "text/plain": [
       "<matplotlib.figure.Figure at 0x7fb73d7edef0>"
      ]
     },
     "metadata": {
      "image/png": {
       "height": 319,
       "width": 355
      }
     },
     "output_type": "display_data"
    }
   ],
   "source": [
    "\"\"\"\n",
    "DON'T MODIFY ANYTHING IN THIS CELL\n",
    "\"\"\"\n",
    "%matplotlib inline\n",
    "%config InlineBackend.figure_format = 'retina'\n",
    "\n",
    "import tensorflow as tf\n",
    "import pickle\n",
    "import helper\n",
    "import random\n",
    "\n",
    "# Set batch size if not already set\n",
    "try:\n",
    "    if batch_size:\n",
    "        pass\n",
    "except NameError:\n",
    "    batch_size = 64\n",
    "\n",
    "save_model_path = './image_classification'\n",
    "n_samples = 4\n",
    "top_n_predictions = 3\n",
    "\n",
    "def test_model():\n",
    "    \"\"\"\n",
    "    Test the saved model against the test dataset\n",
    "    \"\"\"\n",
    "\n",
    "    test_features, test_labels = pickle.load(open('preprocess_training.p', mode='rb'))\n",
    "    loaded_graph = tf.Graph()\n",
    "\n",
    "    with tf.Session(graph=loaded_graph) as sess:\n",
    "        # Load model\n",
    "        loader = tf.train.import_meta_graph(save_model_path + '.meta')\n",
    "        loader.restore(sess, save_model_path)\n",
    "\n",
    "        # Get Tensors from loaded model\n",
    "        loaded_x = loaded_graph.get_tensor_by_name('x:0')\n",
    "        loaded_y = loaded_graph.get_tensor_by_name('y:0')\n",
    "        loaded_keep_prob = loaded_graph.get_tensor_by_name('keep_prob:0')\n",
    "        loaded_logits = loaded_graph.get_tensor_by_name('logits:0')\n",
    "        loaded_acc = loaded_graph.get_tensor_by_name('accuracy:0')\n",
    "        \n",
    "        # Get accuracy in batches for memory limitations\n",
    "        test_batch_acc_total = 0\n",
    "        test_batch_count = 0\n",
    "        \n",
    "        for train_feature_batch, train_label_batch in helper.batch_features_labels(test_features, test_labels, batch_size):\n",
    "            test_batch_acc_total += sess.run(\n",
    "                loaded_acc,\n",
    "                feed_dict={loaded_x: train_feature_batch, loaded_y: train_label_batch, loaded_keep_prob: 1.0})\n",
    "            test_batch_count += 1\n",
    "\n",
    "        print('Testing Accuracy: {}\\n'.format(test_batch_acc_total/test_batch_count))\n",
    "\n",
    "        # Print Random Samples\n",
    "        random_test_features, random_test_labels = tuple(zip(*random.sample(list(zip(test_features, test_labels)), n_samples)))\n",
    "        random_test_predictions = sess.run(\n",
    "            tf.nn.top_k(tf.nn.softmax(loaded_logits), top_n_predictions),\n",
    "            feed_dict={loaded_x: random_test_features, loaded_y: random_test_labels, loaded_keep_prob: 1.0})\n",
    "        helper.display_image_predictions(random_test_features, random_test_labels, random_test_predictions)\n",
    "\n",
    "\n",
    "test_model()"
   ]
  },
  {
   "cell_type": "markdown",
   "metadata": {
    "deletable": true,
    "editable": true
   },
   "source": [
    "#### Parameters and hyperparameters used:\n",
    "a) 2 convolutional_layers, 3 fully_connected_layers:\n",
    "\n",
    "conv_num_outputs1 = 64; conv_num_outputs2 = 64; conv_ksize = (5,5); conv_strides = (1,1); pool_ksize = (2,2); pool_strides = (2,2); fc1_n_output = 256; fc2_n_output = 128; fc3_n_output = 64; ReLU = True; stddev of weights during initialization = 0.05.\n",
    "\n",
    "b) epochs = 25; batch_size = 128; keep_probability = 0.6\n"
   ]
  },
  {
   "cell_type": "markdown",
   "metadata": {
    "deletable": true,
    "editable": true
   },
   "source": [
    "## Why 50-70% Accuracy?\n",
    "You might be wondering why you can't get an accuracy any higher. First things first, 50% isn't bad for a simple CNN.  Pure guessing would get you 10% accuracy. However, you might notice people are getting scores [well above 70%](http://rodrigob.github.io/are_we_there_yet/build/classification_datasets_results.html#43494641522d3130).  That's because we haven't taught you all there is to know about neural networks. We still need to cover a few more techniques.\n",
    "## Submitting This Project\n",
    "When submitting this project, make sure to run all the cells before saving the notebook.  Save the notebook file as \"dlnd_image_classification.ipynb\" and save it as a HTML file under \"File\" -> \"Download as\".  Include the \"helper.py\" and \"problem_unittests.py\" files in your submission."
   ]
  }
 ],
 "metadata": {
  "kernelspec": {
   "display_name": "Python 3",
   "language": "python",
   "name": "python3"
  },
  "language_info": {
   "codemirror_mode": {
    "name": "ipython",
    "version": 3
   },
   "file_extension": ".py",
   "mimetype": "text/x-python",
   "name": "python",
   "nbconvert_exporter": "python",
   "pygments_lexer": "ipython3",
   "version": "3.5.2"
  },
  "widgets": {
   "state": {},
   "version": "1.1.2"
  }
 },
 "nbformat": 4,
 "nbformat_minor": 0
}
