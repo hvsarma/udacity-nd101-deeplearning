{
 "cells": [
  {
   "cell_type": "markdown",
   "metadata": {
    "collapsed": true,
    "deletable": true,
    "editable": true
   },
   "source": [
    "# Image Classification\n",
    "\n",
    "#### Harish Vasudevasarma (March 8, 2017)\n",
    "\n",
    "In this project, you'll classify images from the [CIFAR-10 dataset](https://www.cs.toronto.edu/~kriz/cifar.html).  The dataset consists of airplanes, dogs, cats, and other objects. You'll preprocess the images, then train a convolutional neural network on all the samples. The images need to be normalized and the labels need to be one-hot encoded.  You'll get to apply what you learned and build a convolutional, max pooling, dropout, and fully connected layers.  At the end, you'll get to see your neural network's predictions on the sample images.\n",
    "## Get the Data\n",
    "Run the following cell to download the [CIFAR-10 dataset for python](https://www.cs.toronto.edu/~kriz/cifar-10-python.tar.gz)."
   ]
  },
  {
   "cell_type": "code",
   "execution_count": 1,
   "metadata": {
    "collapsed": false,
    "deletable": true,
    "editable": true
   },
   "outputs": [
    {
     "name": "stdout",
     "output_type": "stream",
     "text": [
      "All files found!\n"
     ]
    }
   ],
   "source": [
    "\"\"\"\n",
    "DON'T MODIFY ANYTHING IN THIS CELL THAT IS BELOW THIS LINE\n",
    "\"\"\"\n",
    "from urllib.request import urlretrieve\n",
    "from os.path import isfile, isdir\n",
    "from tqdm import tqdm\n",
    "import problem_unittests as tests\n",
    "import tarfile\n",
    "\n",
    "cifar10_dataset_folder_path = 'cifar-10-batches-py'\n",
    "\n",
    "class DLProgress(tqdm):\n",
    "    last_block = 0\n",
    "\n",
    "    def hook(self, block_num=1, block_size=1, total_size=None):\n",
    "        self.total = total_size\n",
    "        self.update((block_num - self.last_block) * block_size)\n",
    "        self.last_block = block_num\n",
    "\n",
    "if not isfile('cifar-10-python.tar.gz'):\n",
    "    with DLProgress(unit='B', unit_scale=True, miniters=1, desc='CIFAR-10 Dataset') as pbar:\n",
    "        urlretrieve(\n",
    "            'https://www.cs.toronto.edu/~kriz/cifar-10-python.tar.gz',\n",
    "            'cifar-10-python.tar.gz',\n",
    "            pbar.hook)\n",
    "\n",
    "if not isdir(cifar10_dataset_folder_path):\n",
    "    with tarfile.open('cifar-10-python.tar.gz') as tar:\n",
    "        tar.extractall()\n",
    "        tar.close()\n",
    "\n",
    "\n",
    "tests.test_folder_path(cifar10_dataset_folder_path)"
   ]
  },
  {
   "cell_type": "markdown",
   "metadata": {
    "deletable": true,
    "editable": true
   },
   "source": [
    "## Explore the Data\n",
    "The dataset is broken into batches to prevent your machine from running out of memory.  The CIFAR-10 dataset consists of 5 batches, named `data_batch_1`, `data_batch_2`, etc.. Each batch contains the labels and images that are one of the following:\n",
    "* airplane\n",
    "* automobile\n",
    "* bird\n",
    "* cat\n",
    "* deer\n",
    "* dog\n",
    "* frog\n",
    "* horse\n",
    "* ship\n",
    "* truck\n",
    "\n",
    "Understanding a dataset is part of making predictions on the data.  Play around with the code cell below by changing the `batch_id` and `sample_id`. The `batch_id` is the id for a batch (1-5). The `sample_id` is the id for a image and label pair in the batch.\n",
    "\n",
    "Ask yourself \"What are all possible labels?\", \"What is the range of values for the image data?\", \"Are the labels in order or random?\".  Answers to questions like these will help you preprocess the data and end up with better predictions."
   ]
  },
  {
   "cell_type": "code",
   "execution_count": 2,
   "metadata": {
    "collapsed": false,
    "deletable": true,
    "editable": true
   },
   "outputs": [
    {
     "name": "stdout",
     "output_type": "stream",
     "text": [
      "\n",
      "Stats of batch 1:\n",
      "Samples: 10000\n",
      "Label Counts: {0: 1005, 1: 974, 2: 1032, 3: 1016, 4: 999, 5: 937, 6: 1030, 7: 1001, 8: 1025, 9: 981}\n",
      "First 20 Labels: [6, 9, 9, 4, 1, 1, 2, 7, 8, 3, 4, 7, 7, 2, 9, 9, 9, 3, 2, 6]\n",
      "\n",
      "Example of Image 250:\n",
      "Image - Min Value: 6 Max Value: 245\n",
      "Image - Shape: (32, 32, 3)\n",
      "Label - Label Id: 1 Name: automobile\n"
     ]
    },
    {
     "data": {
      "image/png": "[encoded data removed]",
      "text/plain": [
       "<matplotlib.figure.Figure at 0x7f5e511ad5f8>"
      ]
     },
     "metadata": {
      "image/png": {
       "height": 250,
       "width": 253
      }
     },
     "output_type": "display_data"
    }
   ],
   "source": [
    "%matplotlib inline\n",
    "%config InlineBackend.figure_format = 'retina'\n",
    "\n",
    "import helper\n",
    "import numpy as np\n",
    "\n",
    "# Explore the dataset\n",
    "batch_id = 1\n",
    "sample_id = 250\n",
    "helper.display_stats(cifar10_dataset_folder_path, batch_id, sample_id)"
   ]
  },
  {
   "cell_type": "markdown",
   "metadata": {
    "deletable": true,
    "editable": true
   },
   "source": [
    "## Implement Preprocess Functions\n",
    "### Normalize\n",
    "In the cell below, implement the `normalize` function to take in image data, `x`, and return it as a normalized Numpy array. The values should be in the range of 0 to 1, inclusive.  The return object should be the same shape as `x`."
   ]
  },
  {
   "cell_type": "code",
   "execution_count": 3,
   "metadata": {
    "collapsed": false,
    "deletable": true,
    "editable": true
   },
   "outputs": [
    {
     "name": "stdout",
     "output_type": "stream",
     "text": [
      "Tests Passed\n"
     ]
    }
   ],
   "source": [
    "from sklearn import preprocessing\n",
    "\n",
    "def normalize(x):\n",
    "    \"\"\"\n",
    "    Normalize a list of sample image data in the range of 0 to 1\n",
    "    : x: List of image data.  The image shape is (32, 32, 3)\n",
    "    : return: Numpy array of normalize data\n",
    "    \"\"\"\n",
    "    # TODO: Implement Function\n",
    "    return x/255\n",
    "\n",
    "\"\"\"\n",
    "DON'T MODIFY ANYTHING IN THIS CELL THAT IS BELOW THIS LINE\n",
    "\"\"\"\n",
    "tests.test_normalize(normalize)"
   ]
  },
  {
   "cell_type": "markdown",
   "metadata": {
    "deletable": true,
    "editable": true
   },
   "source": [
    "### One-hot encode\n",
    "Just like the previous code cell, you'll be implementing a function for preprocessing.  This time, you'll implement the `one_hot_encode` function. The input, `x`, are a list of labels.  Implement the function to return the list of labels as One-Hot encoded Numpy array.  The possible values for labels are 0 to 9. The one-hot encoding function should return the same encoding for each value between each call to `one_hot_encode`.  Make sure to save the map of encodings outside the function.\n",
    "\n",
    "Hint: Don't reinvent the wheel."
   ]
  },
  {
   "cell_type": "code",
   "execution_count": 4,
   "metadata": {
    "collapsed": false,
    "deletable": true,
    "editable": true
   },
   "outputs": [
    {
     "name": "stdout",
     "output_type": "stream",
     "text": [
      "Tests Passed\n"
     ]
    }
   ],
   "source": [
    "import numpy as np\n",
    "\n",
    "def one_hot_encode(x):\n",
    "    \"\"\"\n",
    "    One hot encode a list of sample labels. Return a one-hot encoded vector for each label.\n",
    "    : x: List of sample Labels\n",
    "    : return: Numpy array of one-hot encoded labels\n",
    "    \"\"\"\n",
    "    return np.eye(10)[x]\n",
    "\n",
    "\"\"\"\n",
    "DON'T MODIFY ANYTHING IN THIS CELL THAT IS BELOW THIS LINE\n",
    "\"\"\"\n",
    "tests.test_one_hot_encode(one_hot_encode)"
   ]
  },
  {
   "cell_type": "markdown",
   "metadata": {
    "deletable": true,
    "editable": true
   },
   "source": [
    "### Randomize Data\n",
    "As you saw from exploring the data above, the order of the samples are randomized.  It doesn't hurt to randomize it again, but you don't need to for this dataset."
   ]
  },
  {
   "cell_type": "markdown",
   "metadata": {
    "deletable": true,
    "editable": true
   },
   "source": [
    "## Preprocess all the data and save it\n",
    "Running the code cell below will preprocess all the CIFAR-10 data and save it to file. The code below also uses 10% of the training data for validation."
   ]
  },
  {
   "cell_type": "code",
   "execution_count": 5,
   "metadata": {
    "collapsed": false,
    "deletable": true,
    "editable": true
   },
   "outputs": [],
   "source": [
    "\"\"\"\n",
    "DON'T MODIFY ANYTHING IN THIS CELL\n",
    "\"\"\"\n",
    "# Preprocess Training, Validation, and Testing Data\n",
    "helper.preprocess_and_save_data(cifar10_dataset_folder_path, normalize, one_hot_encode)"
   ]
  },
  {
   "cell_type": "markdown",
   "metadata": {
    "deletable": true,
    "editable": true
   },
   "source": [
    "# Check Point\n",
    "This is your first checkpoint.  If you ever decide to come back to this notebook or have to restart the notebook, you can start from here.  The preprocessed data has been saved to disk."
   ]
  },
  {
   "cell_type": "code",
   "execution_count": 6,
   "metadata": {
    "collapsed": false,
    "deletable": true,
    "editable": true
   },
   "outputs": [],
   "source": [
    "\"\"\"\n",
    "DON'T MODIFY ANYTHING IN THIS CELL\n",
    "\"\"\"\n",
    "import pickle\n",
    "import problem_unittests as tests\n",
    "import helper\n",
    "\n",
    "# Load the Preprocessed Validation data\n",
    "valid_features, valid_labels = pickle.load(open('preprocess_validation.p', mode='rb'))"
   ]
  },
  {
   "cell_type": "markdown",
   "metadata": {
    "deletable": true,
    "editable": true
   },
   "source": [
    "## Build the network\n",
    "For the neural network, you'll build each layer into a function.  Most of the code you've seen has been outside of functions. To test your code more thoroughly, we require that you put each layer in a function.  This allows us to give you better feedback and test for simple mistakes using our unittests before you submit your project.\n",
    "\n",
    ">**Note:** If you're finding it hard to dedicate enough time for this course each week, we've provided a small shortcut to this part of the project. In the next couple of problems, you'll have the option to use classes from the [TensorFlow Layers](https://www.tensorflow.org/api_docs/python/tf/layers) or [TensorFlow Layers (contrib)](https://www.tensorflow.org/api_guides/python/contrib.layers) packages to build each layer, except the layers you build in the \"Convolutional and Max Pooling Layer\" section.  TF Layers is similar to Keras's and TFLearn's abstraction to layers, so it's easy to pickup.\n",
    "\n",
    ">However, if you would like to get the most out of this course, try to solve all the problems _without_ using anything from the TF Layers packages. You **can** still use classes from other packages that happen to have the same name as ones you find in TF Layers! For example, instead of using the TF Layers version of the `conv2d` class, [tf.layers.conv2d](https://www.tensorflow.org/api_docs/python/tf/layers/conv2d), you would want to use the TF Neural Network version of `conv2d`, [tf.nn.conv2d](https://www.tensorflow.org/api_docs/python/tf/nn/conv2d). \n",
    "\n",
    "Let's begin!\n",
    "\n",
    "### Input\n",
    "The neural network needs to read the image data, one-hot encoded labels, and dropout keep probability. Implement the following functions\n",
    "* Implement `neural_net_image_input`\n",
    " * Return a [TF Placeholder](https://www.tensorflow.org/api_docs/python/tf/placeholder)\n",
    " * Set the shape using `image_shape` with batch size set to `None`.\n",
    " * Name the TensorFlow placeholder \"x\" using the TensorFlow `name` parameter in the [TF Placeholder](https://www.tensorflow.org/api_docs/python/tf/placeholder).\n",
    "* Implement `neural_net_label_input`\n",
    " * Return a [TF Placeholder](https://www.tensorflow.org/api_docs/python/tf/placeholder)\n",
    " * Set the shape using `n_classes` with batch size set to `None`.\n",
    " * Name the TensorFlow placeholder \"y\" using the TensorFlow `name` parameter in the [TF Placeholder](https://www.tensorflow.org/api_docs/python/tf/placeholder).\n",
    "* Implement `neural_net_keep_prob_input`\n",
    " * Return a [TF Placeholder](https://www.tensorflow.org/api_docs/python/tf/placeholder) for dropout keep probability.\n",
    " * Name the TensorFlow placeholder \"keep_prob\" using the TensorFlow `name` parameter in the [TF Placeholder](https://www.tensorflow.org/api_docs/python/tf/placeholder).\n",
    "\n",
    "These names will be used at the end of the project to load your saved model.\n",
    "\n",
    "Note: `None` for shapes in TensorFlow allow for a dynamic size."
   ]
  },
  {
   "cell_type": "code",
   "execution_count": 7,
   "metadata": {
    "collapsed": false,
    "deletable": true,
    "editable": true
   },
   "outputs": [
    {
     "name": "stdout",
     "output_type": "stream",
     "text": [
      "Image Input Tests Passed.\n",
      "Label Input Tests Passed.\n",
      "Keep Prob Tests Passed.\n"
     ]
    }
   ],
   "source": [
    "import tensorflow as tf\n",
    "\n",
    "def neural_net_image_input(image_shape):\n",
    "    \"\"\"\n",
    "    Return a Tensor for a bach of image input\n",
    "    : image_shape: Shape of the images\n",
    "    : return: Tensor for image input.\n",
    "    \"\"\"\n",
    "    # TODO: Implement Function\n",
    "    return tf.placeholder(tf.float32, shape = [None, *image_shape], name='x')\n",
    "\n",
    "\n",
    "def neural_net_label_input(n_classes):\n",
    "    \"\"\"\n",
    "    Return a Tensor for a batch of label input\n",
    "    : n_classes: Number of classes\n",
    "    : return: Tensor for label input.\n",
    "    \"\"\"\n",
    "    # TODO: Implement Function\n",
    "    return tf.placeholder(tf.float32, shape = [None, n_classes], name='y')\n",
    "\n",
    "\n",
    "def neural_net_keep_prob_input():\n",
    "    \"\"\"\n",
    "    Return a Tensor for keep probability\n",
    "    : return: Tensor for keep probability.\n",
    "    \"\"\"\n",
    "    # TODO: Implement Function\n",
    "    return tf.placeholder(tf.float32, name='keep_prob')\n",
    "\n",
    "\n",
    "\"\"\"\n",
    "DON'T MODIFY ANYTHING IN THIS CELL THAT IS BELOW THIS LINE\n",
    "\"\"\"\n",
    "tf.reset_default_graph()\n",
    "tests.test_nn_image_inputs(neural_net_image_input)\n",
    "tests.test_nn_label_inputs(neural_net_label_input)\n",
    "tests.test_nn_keep_prob_inputs(neural_net_keep_prob_input)"
   ]
  },
  {
   "cell_type": "markdown",
   "metadata": {
    "deletable": true,
    "editable": true
   },
   "source": [
    "### Convolution and Max Pooling Layer\n",
    "Convolution layers have a lot of success with images. For this code cell, you should implement the function `conv2d_maxpool` to apply convolution then max pooling:\n",
    "* Create the weight and bias using `conv_ksize`, `conv_num_outputs` and the shape of `x_tensor`.\n",
    "* Apply a convolution to `x_tensor` using weight and `conv_strides`.\n",
    " * We recommend you use same padding, but you're welcome to use any padding.\n",
    "* Add bias\n",
    "* Add a nonlinear activation to the convolution.\n",
    "* Apply Max Pooling using `pool_ksize` and `pool_strides`.\n",
    " * We recommend you use same padding, but you're welcome to use any padding.\n",
    "\n",
    "**Note:** You **can't** use [TensorFlow Layers](https://www.tensorflow.org/api_docs/python/tf/layers) or [TensorFlow Layers (contrib)](https://www.tensorflow.org/api_guides/python/contrib.layers) for **this** layer, but you can still use TensorFlow's [Neural Network](https://www.tensorflow.org/api_docs/python/tf/nn) package. You may still use the shortcut option for all the **other** layers."
   ]
  },
  {
   "cell_type": "code",
   "execution_count": 8,
   "metadata": {
    "collapsed": false,
    "deletable": true,
    "editable": true
   },
   "outputs": [
    {
     "name": "stdout",
     "output_type": "stream",
     "text": [
      "Tests Passed\n"
     ]
    }
   ],
   "source": [
    "def conv2d_maxpool(x_tensor, conv_num_outputs, conv_ksize, conv_strides, pool_ksize, pool_strides):\n",
    "    \"\"\"\n",
    "    Apply convolution then max pooling to x_tensor\n",
    "    :param x_tensor: TensorFlow Tensor\n",
    "    :param conv_num_outputs: Number of outputs for the convolutional layer\n",
    "    :param conv_ksize: kernal size 2-D Tuple for the convolutional layer\n",
    "    :param conv_strides: Stride 2-D Tuple for convolution\n",
    "    :param pool_ksize: kernal size 2-D Tuple for pool\n",
    "    :param pool_strides: Stride 2-D Tuple for pool\n",
    "    : return: A tensor that represents convolution and max pooling of x_tensor\n",
    "    \"\"\"\n",
    "    \n",
    "    k_output = conv_num_outputs\n",
    "\n",
    "    # Image Properties\n",
    "    color_channels = x_tensor.get_shape().as_list()[3]\n",
    "    \n",
    "    # Convolution filter\n",
    "    filter_size_height = conv_ksize[0]\n",
    "    filter_size_width = conv_ksize[1]\n",
    "    \n",
    "    # Input/Image\n",
    "    input = x_tensor\n",
    "\n",
    "    # Weight and bias\n",
    "    weight = tf.Variable(tf.truncated_normal(\n",
    "        [filter_size_height, filter_size_width, color_channels, k_output], stddev=0.05, mean=0))\n",
    "    bias = tf.Variable(tf.zeros(k_output))\n",
    "\n",
    "    # Apply Convolution\n",
    "    conv_layer = tf.nn.conv2d(input, weight, strides=[1,conv_strides[0],conv_strides[1],1] , padding='SAME')\n",
    "    # Add bias\n",
    "    conv_layer = tf.nn.bias_add(conv_layer, bias)\n",
    "    # Apply activation function\n",
    "    conv_layer = tf.nn.relu(conv_layer)\n",
    "    # Apply Max Pooling\n",
    "    conv_layer = tf.nn.max_pool(\n",
    "        conv_layer,\n",
    "        ksize=[1,pool_ksize[0], pool_ksize[1],1],\n",
    "        strides=[1,pool_strides[0],pool_strides[1],1],\n",
    "        padding='SAME')\n",
    "    return conv_layer\n",
    "\n",
    "\n",
    "\"\"\"\n",
    "DON'T MODIFY ANYTHING IN THIS CELL THAT IS BELOW THIS LINE\n",
    "\"\"\"\n",
    "tests.test_con_pool(conv2d_maxpool)"
   ]
  },
  {
   "cell_type": "markdown",
   "metadata": {
    "deletable": true,
    "editable": true
   },
   "source": [
    "### Flatten Layer\n",
    "Implement the `flatten` function to change the dimension of `x_tensor` from a 4-D tensor to a 2-D tensor.  The output should be the shape (*Batch Size*, *Flattened Image Size*). Shortcut option: you can use classes from the [TensorFlow Layers](https://www.tensorflow.org/api_docs/python/tf/layers) or [TensorFlow Layers (contrib)](https://www.tensorflow.org/api_guides/python/contrib.layers) packages for this layer. For more of a challenge, only use other TensorFlow packages."
   ]
  },
  {
   "cell_type": "code",
   "execution_count": 9,
   "metadata": {
    "collapsed": false,
    "deletable": true,
    "editable": true
   },
   "outputs": [
    {
     "name": "stdout",
     "output_type": "stream",
     "text": [
      "Tests Passed\n"
     ]
    }
   ],
   "source": [
    "def flatten(x_tensor):\n",
    "    \"\"\"\n",
    "    Flatten x_tensor to (Batch Size, Flattened Image Size)\n",
    "    : x_tensor: A tensor of size (Batch Size, ...), where ... are the image dimensions.\n",
    "    : return: A tensor of size (Batch Size, Flattened Image Size).\n",
    "    \"\"\"\n",
    "    # TODO: Implement Function\n",
    "    layer = x_tensor\n",
    "    # The shape of the input layer is assumed to be:\n",
    "    # layer_shape == [num_images, img_height, img_width, num_channels]\n",
    "\n",
    "    # The number of features is: img_height * img_width * num_channels\n",
    "    # We can use a function from TensorFlow to calculate this.\n",
    "    layer_shape = layer.get_shape()\n",
    "    num_features = layer_shape[1:4].num_elements()\n",
    "    \n",
    "    # Reshape the layer to [num_images, num_features].\n",
    "    # Note that we just set the size of the second dimension\n",
    "    # to num_features and the size of the first dimension to -1\n",
    "    # which means the size in that dimension is calculated\n",
    "    # so the total size of the tensor is unchanged from the reshaping.\n",
    "    layer_flat = tf.reshape(layer, [-1, num_features])\n",
    "\n",
    "    # The shape of the flattened layer is now:\n",
    "    # [num_images, img_height * img_width * num_channels]\n",
    "\n",
    "    # Return both the flattened layer and the number of features.\n",
    "    return layer_flat\n",
    "\n",
    "\n",
    "\"\"\"\n",
    "DON'T MODIFY ANYTHING IN THIS CELL THAT IS BELOW THIS LINE\n",
    "\"\"\"\n",
    "tests.test_flatten(flatten)"
   ]
  },
  {
   "cell_type": "markdown",
   "metadata": {
    "deletable": true,
    "editable": true
   },
   "source": [
    "### Fully-Connected Layer\n",
    "Implement the `fully_conn` function to apply a fully connected layer to `x_tensor` with the shape (*Batch Size*, *num_outputs*). Shortcut option: you can use classes from the [TensorFlow Layers](https://www.tensorflow.org/api_docs/python/tf/layers) or [TensorFlow Layers (contrib)](https://www.tensorflow.org/api_guides/python/contrib.layers) packages for this layer. For more of a challenge, only use other TensorFlow packages."
   ]
  },
  {
   "cell_type": "code",
   "execution_count": 54,
   "metadata": {
    "collapsed": false,
    "deletable": true,
    "editable": true
   },
   "outputs": [
    {
     "name": "stdout",
     "output_type": "stream",
     "text": [
      "Tests Passed\n"
     ]
    }
   ],
   "source": [
    "def fully_conn(x_tensor, num_outputs, use_relu=True):\n",
    "    \"\"\"\n",
    "    Apply a fully connected layer to x_tensor using weight and bias\n",
    "    : x_tensor: A 2-D tensor where the first dimension is batch size.\n",
    "    : num_outputs: The number of output that the new tensor should be.\n",
    "    : return: A 2-D tensor where the second dimension is num_outputs.\n",
    "    \"\"\"\n",
    "    # TODO: Implement Function\n",
    "    # Create new weights and biases.\n",
    "    input = x_tensor\n",
    "    \n",
    "    num_inputs = input.get_shape().as_list()[1]\n",
    "    \n",
    "    weights = tf.Variable(tf.truncated_normal([num_inputs , num_outputs], stddev=0.05, mean=0))\n",
    "    biases = tf.Variable(tf.zeros(num_outputs))\n",
    "\n",
    "    # Calculate the layer as the matrix multiplication of\n",
    "    # the input and weights, and then add the bias-values.\n",
    "    layer = tf.matmul(input, weights) + biases\n",
    "\n",
    "    # Use ReLU?\n",
    "    if use_relu:\n",
    "        layer = tf.nn.relu(layer)\n",
    "\n",
    "    return layer\n",
    "\n",
    "\n",
    "\"\"\"\n",
    "DON'T MODIFY ANYTHING IN THIS CELL THAT IS BELOW THIS LINE\n",
    "\"\"\"\n",
    "tests.test_fully_conn(fully_conn)"
   ]
  },
  {
   "cell_type": "markdown",
   "metadata": {
    "deletable": true,
    "editable": true
   },
   "source": [
    "### Output Layer\n",
    "Implement the `output` function to apply a fully connected layer to `x_tensor` with the shape (*Batch Size*, *num_outputs*). Shortcut option: you can use classes from the [TensorFlow Layers](https://www.tensorflow.org/api_docs/python/tf/layers) or [TensorFlow Layers (contrib)](https://www.tensorflow.org/api_guides/python/contrib.layers) packages for this layer. For more of a challenge, only use other TensorFlow packages.\n",
    "\n",
    "**Note:** Activation, softmax, or cross entropy should **not** be applied to this."
   ]
  },
  {
   "cell_type": "code",
   "execution_count": 11,
   "metadata": {
    "collapsed": false,
    "deletable": true,
    "editable": true
   },
   "outputs": [
    {
     "name": "stdout",
     "output_type": "stream",
     "text": [
      "Tests Passed\n"
     ]
    }
   ],
   "source": [
    "def output(x_tensor, num_outputs):\n",
    "    \"\"\"\n",
    "    Apply a output layer to x_tensor using weight and bias\n",
    "    : x_tensor: A 2-D tensor where the first dimension is batch size.\n",
    "    : num_outputs: The number of output that the new tensor should be.\n",
    "    : return: A 2-D tensor where the second dimension is num_outputs.\n",
    "    \"\"\"\n",
    "    # TODO: Implement Function\n",
    "    return fully_conn(x_tensor, num_outputs)\n",
    "\n",
    "\n",
    "\"\"\"\n",
    "DON'T MODIFY ANYTHING IN THIS CELL THAT IS BELOW THIS LINE\n",
    "\"\"\"\n",
    "tests.test_output(output)"
   ]
  },
  {
   "cell_type": "markdown",
   "metadata": {
    "deletable": true,
    "editable": true
   },
   "source": [
    "### Create Convolutional Model\n",
    "Implement the function `conv_net` to create a convolutional neural network model. The function takes in a batch of images, `x`, and outputs logits.  Use the layers you created above to create this model:\n",
    "\n",
    "* Apply 1, 2, or 3 Convolution and Max Pool layers\n",
    "* Apply a Flatten Layer\n",
    "* Apply 1, 2, or 3 Fully Connected Layers\n",
    "* Apply an Output Layer\n",
    "* Return the output\n",
    "* Apply [TensorFlow's Dropout](https://www.tensorflow.org/api_docs/python/tf/nn/dropout) to one or more layers in the model using `keep_prob`. "
   ]
  },
  {
   "cell_type": "code",
   "execution_count": 58,
   "metadata": {
    "collapsed": false,
    "deletable": true,
    "editable": true
   },
   "outputs": [
    {
     "name": "stdout",
     "output_type": "stream",
     "text": [
      "Neural Network Built!\n"
     ]
    }
   ],
   "source": [
    "def conv_net(x, keep_prob):\n",
    "    \"\"\"\n",
    "    Create a convolutional neural network model\n",
    "    : x: Placeholder tensor that holds image data.\n",
    "    : keep_prob: Placeholder tensor that hold dropout keep probability.\n",
    "    : return: Tensor that represents logits\n",
    "    \"\"\"\n",
    "    \n",
    "    # TODO: Apply 1, 2, or 3 Convolution and Max Pool layers\n",
    "    #    Play around with different number of outputs, kernel size and stride\n",
    "    # conv-maxpool-layer parameters\n",
    "    x_tensor = x\n",
    "    conv_num_outputs1 = 64\n",
    "    conv_num_outputs2 = 64\n",
    "    conv_ksize = (5,5)\n",
    "    conv_strides = (1,1)\n",
    "    pool_ksize = (2,2)\n",
    "    pool_strides = (2,2)\n",
    "\n",
    "    # Function Definition from Above:\n",
    "    conv1 = conv2d_maxpool(x_tensor, conv_num_outputs1, conv_ksize, conv_strides, pool_ksize, pool_strides)\n",
    "    conv2 = conv2d_maxpool(conv1,conv_num_outputs2, conv_ksize, conv_strides, pool_ksize, pool_strides)\n",
    "    \n",
    "    # TODO: Apply a Flatten Layer\n",
    "    # Function Definition from Above:\n",
    "    flat1 = flatten(conv2)\n",
    "    \n",
    "    # TODO: Apply 1, 2, or 3 Fully Connected Layers\n",
    "    #    Play around with different number of outputs   \n",
    "    # fully-connected-layer parameters\n",
    "    fc1_n_output = 256\n",
    "    fc2_n_output = 128\n",
    "    fc3_n_output = 64\n",
    "   \n",
    "    # Function Definition from Above:\n",
    "    fc1 = fully_conn(flat1, fc1_n_output)\n",
    "    fc1 = tf.nn.dropout(fc1, keep_prob)\n",
    "    \n",
    "    fc2 = fully_conn(fc1, fc2_n_output)\n",
    "    fc2 = tf.nn.dropout(fc2, keep_prob)\n",
    "    \n",
    "    fc3 = fully_conn(fc2, fc3_n_output)\n",
    "    fc3 = tf.nn.dropout(fc3, keep_prob)\n",
    "    \n",
    "    # TODO: Apply an Output Layer\n",
    "    #    Set this to the number of classes\n",
    "    final_n_outputs = 10 #number of classes\n",
    "    \n",
    "    # Function Definition from Above:\n",
    "    out = output(fc3, final_n_outputs)\n",
    "    \n",
    "    # TODO: return output\n",
    "    return out\n",
    "\n",
    "\n",
    "\"\"\"\n",
    "DON'T MODIFY ANYTHING IN THIS CELL THAT IS BELOW THIS LINE\n",
    "\"\"\"\n",
    "\n",
    "##############################\n",
    "## Build the Neural Network ##\n",
    "##############################\n",
    "\n",
    "# Remove previous weights, bias, inputs, etc..\n",
    "tf.reset_default_graph()\n",
    "\n",
    "# Inputs\n",
    "x = neural_net_image_input((32, 32, 3))\n",
    "y = neural_net_label_input(10)\n",
    "keep_prob = neural_net_keep_prob_input()\n",
    "\n",
    "# Model\n",
    "logits = conv_net(x, keep_prob)\n",
    "\n",
    "# Name logits Tensor, so that is can be loaded from disk after training\n",
    "logits = tf.identity(logits, name='logits')\n",
    "\n",
    "# Loss and Optimizer\n",
    "cost = tf.reduce_mean(tf.nn.softmax_cross_entropy_with_logits(logits=logits, labels=y))\n",
    "optimizer = tf.train.AdamOptimizer().minimize(cost)\n",
    "\n",
    "# Accuracy\n",
    "correct_pred = tf.equal(tf.argmax(logits, 1), tf.argmax(y, 1))\n",
    "accuracy = tf.reduce_mean(tf.cast(correct_pred, tf.float32), name='accuracy')\n",
    "\n",
    "tests.test_conv_net(conv_net)"
   ]
  },
  {
   "cell_type": "markdown",
   "metadata": {
    "deletable": true,
    "editable": true
   },
   "source": [
    "## Train the Neural Network\n",
    "### Single Optimization\n",
    "Implement the function `train_neural_network` to do a single optimization.  The optimization should use `optimizer` to optimize in `session` with a `feed_dict` of the following:\n",
    "* `x` for image input\n",
    "* `y` for labels\n",
    "* `keep_prob` for keep probability for dropout\n",
    "\n",
    "This function will be called for each batch, so `tf.global_variables_initializer()` has already been called.\n",
    "\n",
    "Note: Nothing needs to be returned. This function is only optimizing the neural network."
   ]
  },
  {
   "cell_type": "code",
   "execution_count": 27,
   "metadata": {
    "collapsed": false,
    "deletable": true,
    "editable": true
   },
   "outputs": [
    {
     "name": "stdout",
     "output_type": "stream",
     "text": [
      "Tests Passed\n"
     ]
    }
   ],
   "source": [
    "def train_neural_network(session, optimizer, keep_probability, feature_batch, label_batch):\n",
    "    \"\"\"\n",
    "    Optimize the session on a batch of images and labels\n",
    "    : session: Current TensorFlow session\n",
    "    : optimizer: TensorFlow optimizer function\n",
    "    : keep_probability: keep probability\n",
    "    : feature_batch: Batch of Numpy image data\n",
    "    : label_batch: Batch of Numpy label data\n",
    "    \"\"\"\n",
    "    # TODO: Implement Function\n",
    "    session.run(optimizer, feed_dict={x: feature_batch, y: label_batch, keep_prob: keep_probability})\n",
    "\n",
    "\n",
    "\"\"\"\n",
    "DON'T MODIFY ANYTHING IN THIS CELL THAT IS BELOW THIS LINE\n",
    "\"\"\"\n",
    "tests.test_train_nn(train_neural_network)"
   ]
  },
  {
   "cell_type": "markdown",
   "metadata": {
    "deletable": true,
    "editable": true
   },
   "source": [
    "### Show Stats\n",
    "Implement the function `print_stats` to print loss and validation accuracy.  Use the global variables `valid_features` and `valid_labels` to calculate validation accuracy.  Use a keep probability of `1.0` to calculate the loss and validation accuracy."
   ]
  },
  {
   "cell_type": "code",
   "execution_count": 28,
   "metadata": {
    "collapsed": false,
    "deletable": true,
    "editable": true
   },
   "outputs": [],
   "source": [
    "def print_stats(session, feature_batch, label_batch, cost, accuracy):\n",
    "    \"\"\"\n",
    "    Print information about loss and validation accuracy\n",
    "    : session: Current TensorFlow session\n",
    "    : feature_batch: Batch of Numpy image data\n",
    "    : label_batch: Batch of Numpy label data\n",
    "    : cost: TensorFlow cost function\n",
    "    : accuracy: TensorFlow accuracy function\n",
    "    \"\"\"\n",
    "    # TODO: Implement Function\n",
    "    training_loss = sess.run(cost, feed_dict={x: feature_batch, y: label_batch, keep_prob: 1.})   \n",
    "    validation_acc = sess.run(accuracy, feed_dict={x: valid_features, y: valid_labels, keep_prob: 1.})\n",
    "    \n",
    "    print(\"Training Loss: {:.4f}; Validation Accuracy: {:.4f}\".format(training_loss,validation_acc))"
   ]
  },
  {
   "cell_type": "markdown",
   "metadata": {
    "deletable": true,
    "editable": true
   },
   "source": [
    "### Hyperparameters\n",
    "Tune the following parameters:\n",
    "* Set `epochs` to the number of iterations until the network stops learning or start overfitting\n",
    "* Set `batch_size` to the highest number that your machine has memory for.  Most people set them to common sizes of memory:\n",
    " * 64\n",
    " * 128\n",
    " * 256\n",
    " * ...\n",
    "* Set `keep_probability` to the probability of keeping a node using dropout"
   ]
  },
  {
   "cell_type": "code",
   "execution_count": 56,
   "metadata": {
    "collapsed": true,
    "deletable": true,
    "editable": true
   },
   "outputs": [],
   "source": [
    "# TODO: Tune Parameters\n",
    "epochs = 25\n",
    "batch_size = 128\n",
    "keep_probability = 0.6"
   ]
  },
  {
   "cell_type": "markdown",
   "metadata": {
    "deletable": true,
    "editable": true
   },
   "source": [
    "### Train on a Single CIFAR-10 Batch\n",
    "Instead of training the neural network on all the CIFAR-10 batches of data, let's use a single batch. This should save time while you iterate on the model to get a better accuracy.  Once the final validation accuracy is 50% or greater, run the model on all the data in the next section."
   ]
  },
  {
   "cell_type": "code",
   "execution_count": 59,
   "metadata": {
    "collapsed": false,
    "deletable": true,
    "editable": true
   },
   "outputs": [
    {
     "name": "stdout",
     "output_type": "stream",
     "text": [
      "Checking the Training on a Single Batch...\n",
      "Epoch  1, CIFAR-10 Batch 1:  Training Loss: 2.2469; Validation Accuracy: 0.1746\n",
      "Epoch  2, CIFAR-10 Batch 1:  Training Loss: 2.1000; Validation Accuracy: 0.2954\n",
      "Epoch  3, CIFAR-10 Batch 1:  Training Loss: 1.9579; Validation Accuracy: 0.3452\n",
      "Epoch  4, CIFAR-10 Batch 1:  Training Loss: 1.7551; Validation Accuracy: 0.3986\n",
      "Epoch  5, CIFAR-10 Batch 1:  Training Loss: 1.6443; Validation Accuracy: 0.4370\n",
      "Epoch  6, CIFAR-10 Batch 1:  Training Loss: 1.5634; Validation Accuracy: 0.4622\n",
      "Epoch  7, CIFAR-10 Batch 1:  Training Loss: 1.4141; Validation Accuracy: 0.4822\n",
      "Epoch  8, CIFAR-10 Batch 1:  Training Loss: 1.2176; Validation Accuracy: 0.5084\n",
      "Epoch  9, CIFAR-10 Batch 1:  Training Loss: 1.0925; Validation Accuracy: 0.5210\n",
      "Epoch 10, CIFAR-10 Batch 1:  Training Loss: 0.9855; Validation Accuracy: 0.5326\n",
      "Epoch 11, CIFAR-10 Batch 1:  Training Loss: 0.8914; Validation Accuracy: 0.5424\n",
      "Epoch 12, CIFAR-10 Batch 1:  Training Loss: 0.7705; Validation Accuracy: 0.5412\n",
      "Epoch 13, CIFAR-10 Batch 1:  Training Loss: 0.6481; Validation Accuracy: 0.5674\n",
      "Epoch 14, CIFAR-10 Batch 1:  Training Loss: 0.5558; Validation Accuracy: 0.5514\n",
      "Epoch 15, CIFAR-10 Batch 1:  Training Loss: 0.4756; Validation Accuracy: 0.5722\n",
      "Epoch 16, CIFAR-10 Batch 1:  Training Loss: 0.4443; Validation Accuracy: 0.5550\n",
      "Epoch 17, CIFAR-10 Batch 1:  Training Loss: 0.3381; Validation Accuracy: 0.5754\n",
      "Epoch 18, CIFAR-10 Batch 1:  Training Loss: 0.3048; Validation Accuracy: 0.5696\n",
      "Epoch 19, CIFAR-10 Batch 1:  Training Loss: 0.2605; Validation Accuracy: 0.5586\n",
      "Epoch 20, CIFAR-10 Batch 1:  Training Loss: 0.2741; Validation Accuracy: 0.5682\n",
      "Epoch 21, CIFAR-10 Batch 1:  Training Loss: 0.2626; Validation Accuracy: 0.5710\n",
      "Epoch 22, CIFAR-10 Batch 1:  Training Loss: 0.2405; Validation Accuracy: 0.5762\n",
      "Epoch 23, CIFAR-10 Batch 1:  Training Loss: 0.1911; Validation Accuracy: 0.5534\n",
      "Epoch 24, CIFAR-10 Batch 1:  Training Loss: 0.1631; Validation Accuracy: 0.5578\n",
      "Epoch 25, CIFAR-10 Batch 1:  Training Loss: 0.1374; Validation Accuracy: 0.5726\n"
     ]
    }
   ],
   "source": [
    "\"\"\"\n",
    "DON'T MODIFY ANYTHING IN THIS CELL\n",
    "\"\"\"\n",
    "print('Checking the Training on a Single Batch...')\n",
    "with tf.Session() as sess:\n",
    "    # Initializing the variables\n",
    "    sess.run(tf.global_variables_initializer())\n",
    "    \n",
    "    # Training cycle\n",
    "    for epoch in range(epochs):\n",
    "        batch_i = 1\n",
    "        for batch_features, batch_labels in helper.load_preprocess_training_batch(batch_i, batch_size):\n",
    "            train_neural_network(sess, optimizer, keep_probability, batch_features, batch_labels)\n",
    "        print('Epoch {:>2}, CIFAR-10 Batch {}:  '.format(epoch + 1, batch_i), end='')\n",
    "        print_stats(sess, batch_features, batch_labels, cost, accuracy)"
   ]
  },
  {
   "cell_type": "markdown",
   "metadata": {
    "deletable": true,
    "editable": true
   },
   "source": [
    "### Fully Train the Model\n",
    "Now that you got a good accuracy with a single CIFAR-10 batch, try it with all five batches."
   ]
  },
  {
   "cell_type": "code",
   "execution_count": 60,
   "metadata": {
    "collapsed": false,
    "deletable": true,
    "editable": true
   },
   "outputs": [
    {
     "name": "stdout",
     "output_type": "stream",
     "text": [
      "Training...\n",
      "Epoch  1, CIFAR-10 Batch 1:  Training Loss: 2.2626; Validation Accuracy: 0.1046\n",
      "Epoch  1, CIFAR-10 Batch 2:  Training Loss: 2.1583; Validation Accuracy: 0.2220\n",
      "Epoch  1, CIFAR-10 Batch 3:  Training Loss: 1.7178; Validation Accuracy: 0.3144\n",
      "Epoch  1, CIFAR-10 Batch 4:  Training Loss: 1.6505; Validation Accuracy: 0.3868\n",
      "Epoch  1, CIFAR-10 Batch 5:  Training Loss: 1.6919; Validation Accuracy: 0.4384\n",
      "Epoch  2, CIFAR-10 Batch 1:  Training Loss: 1.6362; Validation Accuracy: 0.4708\n",
      "Epoch  2, CIFAR-10 Batch 2:  Training Loss: 1.3611; Validation Accuracy: 0.4922\n",
      "Epoch  2, CIFAR-10 Batch 3:  Training Loss: 1.2321; Validation Accuracy: 0.4846\n",
      "Epoch  2, CIFAR-10 Batch 4:  Training Loss: 1.3188; Validation Accuracy: 0.5246\n",
      "Epoch  2, CIFAR-10 Batch 5:  Training Loss: 1.2959; Validation Accuracy: 0.5410\n",
      "Epoch  3, CIFAR-10 Batch 1:  Training Loss: 1.2377; Validation Accuracy: 0.5538\n",
      "Epoch  3, CIFAR-10 Batch 2:  Training Loss: 1.0077; Validation Accuracy: 0.5614\n",
      "Epoch  3, CIFAR-10 Batch 3:  Training Loss: 0.9989; Validation Accuracy: 0.5736\n",
      "Epoch  3, CIFAR-10 Batch 4:  Training Loss: 1.0708; Validation Accuracy: 0.5884\n",
      "Epoch  3, CIFAR-10 Batch 5:  Training Loss: 0.9805; Validation Accuracy: 0.5874\n",
      "Epoch  4, CIFAR-10 Batch 1:  Training Loss: 1.0590; Validation Accuracy: 0.5816\n",
      "Epoch  4, CIFAR-10 Batch 2:  Training Loss: 0.8276; Validation Accuracy: 0.5928\n",
      "Epoch  4, CIFAR-10 Batch 3:  Training Loss: 0.8440; Validation Accuracy: 0.6040\n",
      "Epoch  4, CIFAR-10 Batch 4:  Training Loss: 0.9238; Validation Accuracy: 0.6098\n",
      "Epoch  4, CIFAR-10 Batch 5:  Training Loss: 0.8044; Validation Accuracy: 0.6054\n",
      "Epoch  5, CIFAR-10 Batch 1:  Training Loss: 0.9069; Validation Accuracy: 0.6064\n",
      "Epoch  5, CIFAR-10 Batch 2:  Training Loss: 0.6981; Validation Accuracy: 0.6274\n",
      "Epoch  5, CIFAR-10 Batch 3:  Training Loss: 0.7515; Validation Accuracy: 0.6136\n",
      "Epoch  5, CIFAR-10 Batch 4:  Training Loss: 0.7875; Validation Accuracy: 0.6330\n",
      "Epoch  5, CIFAR-10 Batch 5:  Training Loss: 0.6290; Validation Accuracy: 0.6378\n",
      "Epoch  6, CIFAR-10 Batch 1:  Training Loss: 0.7074; Validation Accuracy: 0.6276\n",
      "Epoch  6, CIFAR-10 Batch 2:  Training Loss: 0.6605; Validation Accuracy: 0.6346\n",
      "Epoch  6, CIFAR-10 Batch 3:  Training Loss: 0.5954; Validation Accuracy: 0.6350\n",
      "Epoch  6, CIFAR-10 Batch 4:  Training Loss: 0.6476; Validation Accuracy: 0.6472\n",
      "Epoch  6, CIFAR-10 Batch 5:  Training Loss: 0.5448; Validation Accuracy: 0.6526\n",
      "Epoch  7, CIFAR-10 Batch 1:  Training Loss: 0.5918; Validation Accuracy: 0.6460\n",
      "Epoch  7, CIFAR-10 Batch 2:  Training Loss: 0.5733; Validation Accuracy: 0.6588\n",
      "Epoch  7, CIFAR-10 Batch 3:  Training Loss: 0.5328; Validation Accuracy: 0.6416\n",
      "Epoch  7, CIFAR-10 Batch 4:  Training Loss: 0.5144; Validation Accuracy: 0.6668\n",
      "Epoch  7, CIFAR-10 Batch 5:  Training Loss: 0.4844; Validation Accuracy: 0.6706\n",
      "Epoch  8, CIFAR-10 Batch 1:  Training Loss: 0.5737; Validation Accuracy: 0.6610\n",
      "Epoch  8, CIFAR-10 Batch 2:  Training Loss: 0.4959; Validation Accuracy: 0.6746\n",
      "Epoch  8, CIFAR-10 Batch 3:  Training Loss: 0.3908; Validation Accuracy: 0.6610\n",
      "Epoch  8, CIFAR-10 Batch 4:  Training Loss: 0.4761; Validation Accuracy: 0.6706\n",
      "Epoch  8, CIFAR-10 Batch 5:  Training Loss: 0.3973; Validation Accuracy: 0.6686\n",
      "Epoch  9, CIFAR-10 Batch 1:  Training Loss: 0.4191; Validation Accuracy: 0.6738\n",
      "Epoch  9, CIFAR-10 Batch 2:  Training Loss: 0.4412; Validation Accuracy: 0.6622\n",
      "Epoch  9, CIFAR-10 Batch 3:  Training Loss: 0.3456; Validation Accuracy: 0.6702\n",
      "Epoch  9, CIFAR-10 Batch 4:  Training Loss: 0.3504; Validation Accuracy: 0.6698\n",
      "Epoch  9, CIFAR-10 Batch 5:  Training Loss: 0.3789; Validation Accuracy: 0.6752\n",
      "Epoch 10, CIFAR-10 Batch 1:  Training Loss: 0.3476; Validation Accuracy: 0.6838\n",
      "Epoch 10, CIFAR-10 Batch 2:  Training Loss: 0.3741; Validation Accuracy: 0.6840\n",
      "Epoch 10, CIFAR-10 Batch 3:  Training Loss: 0.3121; Validation Accuracy: 0.6754\n",
      "Epoch 10, CIFAR-10 Batch 4:  Training Loss: 0.3437; Validation Accuracy: 0.6746\n",
      "Epoch 10, CIFAR-10 Batch 5:  Training Loss: 0.3475; Validation Accuracy: 0.6790\n",
      "Epoch 11, CIFAR-10 Batch 1:  Training Loss: 0.3436; Validation Accuracy: 0.6586\n",
      "Epoch 11, CIFAR-10 Batch 2:  Training Loss: 0.3142; Validation Accuracy: 0.6894\n",
      "Epoch 11, CIFAR-10 Batch 3:  Training Loss: 0.2852; Validation Accuracy: 0.6914\n",
      "Epoch 11, CIFAR-10 Batch 4:  Training Loss: 0.3189; Validation Accuracy: 0.6854\n",
      "Epoch 11, CIFAR-10 Batch 5:  Training Loss: 0.2702; Validation Accuracy: 0.6920\n",
      "Epoch 12, CIFAR-10 Batch 1:  Training Loss: 0.2497; Validation Accuracy: 0.6914\n",
      "Epoch 12, CIFAR-10 Batch 2:  Training Loss: 0.3043; Validation Accuracy: 0.6896\n",
      "Epoch 12, CIFAR-10 Batch 3:  Training Loss: 0.2411; Validation Accuracy: 0.6856\n",
      "Epoch 12, CIFAR-10 Batch 4:  Training Loss: 0.2529; Validation Accuracy: 0.6846\n",
      "Epoch 12, CIFAR-10 Batch 5:  Training Loss: 0.1853; Validation Accuracy: 0.6942\n",
      "Epoch 13, CIFAR-10 Batch 1:  Training Loss: 0.2008; Validation Accuracy: 0.6948\n",
      "Epoch 13, CIFAR-10 Batch 2:  Training Loss: 0.3050; Validation Accuracy: 0.6854\n",
      "Epoch 13, CIFAR-10 Batch 3:  Training Loss: 0.1930; Validation Accuracy: 0.6912\n",
      "Epoch 13, CIFAR-10 Batch 4:  Training Loss: 0.1968; Validation Accuracy: 0.7022\n",
      "Epoch 13, CIFAR-10 Batch 5:  Training Loss: 0.1705; Validation Accuracy: 0.6890\n",
      "Epoch 14, CIFAR-10 Batch 1:  Training Loss: 0.1827; Validation Accuracy: 0.6810\n",
      "Epoch 14, CIFAR-10 Batch 2:  Training Loss: 0.2327; Validation Accuracy: 0.6888\n",
      "Epoch 14, CIFAR-10 Batch 3:  Training Loss: 0.1802; Validation Accuracy: 0.7004\n",
      "Epoch 14, CIFAR-10 Batch 4:  Training Loss: 0.1700; Validation Accuracy: 0.6950\n",
      "Epoch 14, CIFAR-10 Batch 5:  Training Loss: 0.1959; Validation Accuracy: 0.6860\n",
      "Epoch 15, CIFAR-10 Batch 1:  Training Loss: 0.2009; Validation Accuracy: 0.6902\n",
      "Epoch 15, CIFAR-10 Batch 2:  Training Loss: 0.2442; Validation Accuracy: 0.7022\n",
      "Epoch 15, CIFAR-10 Batch 3:  Training Loss: 0.1732; Validation Accuracy: 0.6972\n",
      "Epoch 15, CIFAR-10 Batch 4:  Training Loss: 0.2103; Validation Accuracy: 0.6942\n",
      "Epoch 15, CIFAR-10 Batch 5:  Training Loss: 0.1389; Validation Accuracy: 0.6966\n",
      "Epoch 16, CIFAR-10 Batch 1:  Training Loss: 0.1635; Validation Accuracy: 0.6916\n",
      "Epoch 16, CIFAR-10 Batch 2:  Training Loss: 0.2061; Validation Accuracy: 0.7016\n",
      "Epoch 16, CIFAR-10 Batch 3:  Training Loss: 0.1624; Validation Accuracy: 0.7004\n",
      "Epoch 16, CIFAR-10 Batch 4:  Training Loss: 0.1368; Validation Accuracy: 0.6900\n",
      "Epoch 16, CIFAR-10 Batch 5:  Training Loss: 0.0919; Validation Accuracy: 0.6956\n",
      "Epoch 17, CIFAR-10 Batch 1:  Training Loss: 0.1565; Validation Accuracy: 0.6952\n",
      "Epoch 17, CIFAR-10 Batch 2:  Training Loss: 0.1560; Validation Accuracy: 0.6942\n",
      "Epoch 17, CIFAR-10 Batch 3:  Training Loss: 0.1422; Validation Accuracy: 0.7056\n",
      "Epoch 17, CIFAR-10 Batch 4:  Training Loss: 0.1014; Validation Accuracy: 0.6978\n",
      "Epoch 17, CIFAR-10 Batch 5:  Training Loss: 0.1098; Validation Accuracy: 0.6922\n",
      "Epoch 18, CIFAR-10 Batch 1:  Training Loss: 0.1496; Validation Accuracy: 0.6930\n",
      "Epoch 18, CIFAR-10 Batch 2:  Training Loss: 0.1426; Validation Accuracy: 0.6958\n",
      "Epoch 18, CIFAR-10 Batch 3:  Training Loss: 0.1099; Validation Accuracy: 0.6976\n",
      "Epoch 18, CIFAR-10 Batch 4:  Training Loss: 0.1543; Validation Accuracy: 0.6858\n",
      "Epoch 18, CIFAR-10 Batch 5:  Training Loss: 0.0918; Validation Accuracy: 0.6952\n",
      "Epoch 19, CIFAR-10 Batch 1:  Training Loss: 0.1401; Validation Accuracy: 0.6904\n",
      "Epoch 19, CIFAR-10 Batch 2:  Training Loss: 0.1149; Validation Accuracy: 0.6966\n",
      "Epoch 19, CIFAR-10 Batch 3:  Training Loss: 0.0916; Validation Accuracy: 0.6962\n",
      "Epoch 19, CIFAR-10 Batch 4:  Training Loss: 0.0900; Validation Accuracy: 0.6940\n",
      "Epoch 19, CIFAR-10 Batch 5:  Training Loss: 0.0697; Validation Accuracy: 0.6852\n",
      "Epoch 20, CIFAR-10 Batch 1:  Training Loss: 0.1085; Validation Accuracy: 0.6882\n",
      "Epoch 20, CIFAR-10 Batch 2:  Training Loss: 0.1037; Validation Accuracy: 0.6884\n",
      "Epoch 20, CIFAR-10 Batch 3:  Training Loss: 0.0833; Validation Accuracy: 0.6984\n",
      "Epoch 20, CIFAR-10 Batch 4:  Training Loss: 0.0731; Validation Accuracy: 0.6914\n",
      "Epoch 20, CIFAR-10 Batch 5:  Training Loss: 0.0558; Validation Accuracy: 0.6914\n",
      "Epoch 21, CIFAR-10 Batch 1:  Training Loss: 0.1288; Validation Accuracy: 0.6894\n",
      "Epoch 21, CIFAR-10 Batch 2:  Training Loss: 0.0996; Validation Accuracy: 0.6972\n",
      "Epoch 21, CIFAR-10 Batch 3:  Training Loss: 0.0795; Validation Accuracy: 0.6982\n",
      "Epoch 21, CIFAR-10 Batch 4:  Training Loss: 0.0614; Validation Accuracy: 0.7000\n",
      "Epoch 21, CIFAR-10 Batch 5:  Training Loss: 0.0707; Validation Accuracy: 0.6872\n",
      "Epoch 22, CIFAR-10 Batch 1:  Training Loss: 0.0832; Validation Accuracy: 0.6824\n",
      "Epoch 22, CIFAR-10 Batch 2:  Training Loss: 0.0725; Validation Accuracy: 0.7028\n",
      "Epoch 22, CIFAR-10 Batch 3:  Training Loss: 0.0602; Validation Accuracy: 0.6956\n",
      "Epoch 22, CIFAR-10 Batch 4:  Training Loss: 0.0611; Validation Accuracy: 0.7030\n",
      "Epoch 22, CIFAR-10 Batch 5:  Training Loss: 0.0505; Validation Accuracy: 0.6968\n",
      "Epoch 23, CIFAR-10 Batch 1:  Training Loss: 0.0641; Validation Accuracy: 0.6856\n",
      "Epoch 23, CIFAR-10 Batch 2:  Training Loss: 0.0636; Validation Accuracy: 0.6944\n",
      "Epoch 23, CIFAR-10 Batch 3:  Training Loss: 0.0714; Validation Accuracy: 0.6974\n",
      "Epoch 23, CIFAR-10 Batch 4:  Training Loss: 0.0694; Validation Accuracy: 0.6956\n",
      "Epoch 23, CIFAR-10 Batch 5:  Training Loss: 0.0434; Validation Accuracy: 0.6908\n",
      "Epoch 24, CIFAR-10 Batch 1:  Training Loss: 0.1125; Validation Accuracy: 0.6804\n",
      "Epoch 24, CIFAR-10 Batch 2:  Training Loss: 0.0593; Validation Accuracy: 0.6926\n",
      "Epoch 24, CIFAR-10 Batch 3:  Training Loss: 0.0801; Validation Accuracy: 0.6980\n",
      "Epoch 24, CIFAR-10 Batch 4:  Training Loss: 0.0841; Validation Accuracy: 0.6910\n",
      "Epoch 24, CIFAR-10 Batch 5:  Training Loss: 0.0300; Validation Accuracy: 0.6980\n",
      "Epoch 25, CIFAR-10 Batch 1:  Training Loss: 0.0510; Validation Accuracy: 0.7044\n",
      "Epoch 25, CIFAR-10 Batch 2:  Training Loss: 0.0420; Validation Accuracy: 0.7000\n",
      "Epoch 25, CIFAR-10 Batch 3:  Training Loss: 0.0567; Validation Accuracy: 0.7040\n",
      "Epoch 25, CIFAR-10 Batch 4:  Training Loss: 0.0659; Validation Accuracy: 0.6856\n",
      "Epoch 25, CIFAR-10 Batch 5:  Training Loss: 0.0421; Validation Accuracy: 0.7122\n"
     ]
    }
   ],
   "source": [
    "\"\"\"\n",
    "DON'T MODIFY ANYTHING IN THIS CELL\n",
    "\"\"\"\n",
    "save_model_path = './image_classification'\n",
    "\n",
    "print('Training...')\n",
    "with tf.Session() as sess:\n",
    "    # Initializing the variables\n",
    "    sess.run(tf.global_variables_initializer())\n",
    "    \n",
    "    # Training cycle\n",
    "    for epoch in range(epochs):\n",
    "        # Loop over all batches\n",
    "        n_batches = 5\n",
    "        for batch_i in range(1, n_batches + 1):\n",
    "            for batch_features, batch_labels in helper.load_preprocess_training_batch(batch_i, batch_size):\n",
    "                train_neural_network(sess, optimizer, keep_probability, batch_features, batch_labels)\n",
    "            print('Epoch {:>2}, CIFAR-10 Batch {}:  '.format(epoch + 1, batch_i), end='')\n",
    "            print_stats(sess, batch_features, batch_labels, cost, accuracy)\n",
    "            \n",
    "    # Save Model\n",
    "    saver = tf.train.Saver()\n",
    "    save_path = saver.save(sess, save_model_path)"
   ]
  },
  {
   "cell_type": "markdown",
   "metadata": {
    "deletable": true,
    "editable": true
   },
   "source": [
    "# Checkpoint\n",
    "The model has been saved to disk.\n",
    "## Test Model\n",
    "Test your model against the test dataset.  This will be your final accuracy. You should have an accuracy greater than 50%. If you don't, keep tweaking the model architecture and parameters."
   ]
  },
  {
   "cell_type": "code",
   "execution_count": 61,
   "metadata": {
    "collapsed": false,
    "deletable": true,
    "editable": true
   },
   "outputs": [
    {
     "name": "stdout",
     "output_type": "stream",
     "text": [
      "Testing Accuracy: 0.6992681962025317\n",
      "\n"
     ]
    },
    {
     "data": {
      "image/png": "[encoded data removed]",
      "text/plain": [
       "<matplotlib.figure.Figure at 0x7f5dbadd2ef0>"
      ]
     },
     "metadata": {
      "image/png": {
       "height": 319,
       "width": 355
      }
     },
     "output_type": "display_data"
    }
   ],
   "source": [
    "\"\"\"\n",
    "DON'T MODIFY ANYTHING IN THIS CELL\n",
    "\"\"\"\n",
    "%matplotlib inline\n",
    "%config InlineBackend.figure_format = 'retina'\n",
    "\n",
    "import tensorflow as tf\n",
    "import pickle\n",
    "import helper\n",
    "import random\n",
    "\n",
    "# Set batch size if not already set\n",
    "try:\n",
    "    if batch_size:\n",
    "        pass\n",
    "except NameError:\n",
    "    batch_size = 64\n",
    "\n",
    "save_model_path = './image_classification'\n",
    "n_samples = 4\n",
    "top_n_predictions = 3\n",
    "\n",
    "def test_model():\n",
    "    \"\"\"\n",
    "    Test the saved model against the test dataset\n",
    "    \"\"\"\n",
    "\n",
    "    test_features, test_labels = pickle.load(open('preprocess_training.p', mode='rb'))\n",
    "    loaded_graph = tf.Graph()\n",
    "\n",
    "    with tf.Session(graph=loaded_graph) as sess:\n",
    "        # Load model\n",
    "        loader = tf.train.import_meta_graph(save_model_path + '.meta')\n",
    "        loader.restore(sess, save_model_path)\n",
    "\n",
    "        # Get Tensors from loaded model\n",
    "        loaded_x = loaded_graph.get_tensor_by_name('x:0')\n",
    "        loaded_y = loaded_graph.get_tensor_by_name('y:0')\n",
    "        loaded_keep_prob = loaded_graph.get_tensor_by_name('keep_prob:0')\n",
    "        loaded_logits = loaded_graph.get_tensor_by_name('logits:0')\n",
    "        loaded_acc = loaded_graph.get_tensor_by_name('accuracy:0')\n",
    "        \n",
    "        # Get accuracy in batches for memory limitations\n",
    "        test_batch_acc_total = 0\n",
    "        test_batch_count = 0\n",
    "        \n",
    "        for train_feature_batch, train_label_batch in helper.batch_features_labels(test_features, test_labels, batch_size):\n",
    "            test_batch_acc_total += sess.run(\n",
    "                loaded_acc,\n",
    "                feed_dict={loaded_x: train_feature_batch, loaded_y: train_label_batch, loaded_keep_prob: 1.0})\n",
    "            test_batch_count += 1\n",
    "\n",
    "        print('Testing Accuracy: {}\\n'.format(test_batch_acc_total/test_batch_count))\n",
    "\n",
    "        # Print Random Samples\n",
    "        random_test_features, random_test_labels = tuple(zip(*random.sample(list(zip(test_features, test_labels)), n_samples)))\n",
    "        random_test_predictions = sess.run(\n",
    "            tf.nn.top_k(tf.nn.softmax(loaded_logits), top_n_predictions),\n",
    "            feed_dict={loaded_x: random_test_features, loaded_y: random_test_labels, loaded_keep_prob: 1.0})\n",
    "        helper.display_image_predictions(random_test_features, random_test_labels, random_test_predictions)\n",
    "\n",
    "\n",
    "test_model()"
   ]
  },
  {
   "cell_type": "markdown",
   "metadata": {},
   "source": [
    "#### Parameters and hyperparameters used:\n",
    "a) 2 convolutional_layers, 3 fully_connected_layers:\n",
    "\n",
    "conv_num_outputs1 = 64; conv_num_outputs2 = 64; conv_ksize = (5,5); conv_strides = (1,1); pool_ksize = (2,2); pool_strides = (2,2); fc1_n_output = 256; fc2_n_output = 128; fc3_n_output = 64; ReLU = True; stddev of weights during initialization = 0.05.\n",
    "\n",
    "b) epochs = 25; batch_size = 128; keep_probability = 0.6\n"
   ]
  },
  {
   "cell_type": "markdown",
   "metadata": {
    "deletable": true,
    "editable": true
   },
   "source": [
    "## Why 50-70% Accuracy?\n",
    "You might be wondering why you can't get an accuracy any higher. First things first, 50% isn't bad for a simple CNN.  Pure guessing would get you 10% accuracy. However, you might notice people are getting scores [well above 70%](http://rodrigob.github.io/are_we_there_yet/build/classification_datasets_results.html#43494641522d3130).  That's because we haven't taught you all there is to know about neural networks. We still need to cover a few more techniques.\n",
    "## Submitting This Project\n",
    "When submitting this project, make sure to run all the cells before saving the notebook.  Save the notebook file as \"dlnd_image_classification.ipynb\" and save it as a HTML file under \"File\" -> \"Download as\".  Include the \"helper.py\" and \"problem_unittests.py\" files in your submission."
   ]
  }
 ],
 "metadata": {
  "kernelspec": {
   "display_name": "Python 3",
   "language": "python",
   "name": "python3"
  },
  "language_info": {
   "codemirror_mode": {
    "name": "ipython",
    "version": 3
   },
   "file_extension": ".py",
   "mimetype": "text/x-python",
   "name": "python",
   "nbconvert_exporter": "python",
   "pygments_lexer": "ipython3",
   "version": "3.5.2"
  },
  "widgets": {
   "state": {},
   "version": "1.1.2"
  }
 },
 "nbformat": 4,
 "nbformat_minor": 0
}
